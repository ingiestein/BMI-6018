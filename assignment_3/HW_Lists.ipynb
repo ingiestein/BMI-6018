{
 "cells": [
  {
   "cell_type": "code",
   "execution_count": 1,
   "id": "6ea17321-b106-451e-bdde-aa787cbffc89",
   "metadata": {},
   "outputs": [
    {
     "name": "stdout",
     "output_type": "stream",
     "text": [
      "Assignment 3\n"
     ]
    }
   ],
   "source": [
    "\"\"\"BMI 6018 Fall 2022 \n",
    "\n",
    "Instructions: For this assignment, please return all answers as variables in your\n",
    ".py file. You will quickly note that you will need to find answers outside the\n",
    "class lectures. This is not an accident! You will need to become professionally\n",
    "comfortable with looking things up via the python docs and google. \n",
    "\n",
    "Ensure that all variables are labelled according to the example. IE the answer\n",
    "to problem 1 part c should be labelled one_c. While all questions are answerable\n",
    "with a single line of code, you are free to use helper variables so long as they\n",
    "are helpfully/informatively named. \n",
    "\n",
    "I should be able to open your .py file and run it without errors. I will **not** be \n",
    "debugging your code for you. If your file does not run, it will **not** be graded. \n",
    "If you are unsure if your file will run, open up a chpc terminal and test it there.\n",
    "\n",
    "For this assignment, please only use base python files types. That is: there \n",
    "should be no import calls in your file save my use of sys at the end.\n",
    "\n",
    "Example Problem\n",
    "\n",
    "0.a Create a list of strings\n",
    "0.b Using a str method, capitalize one of the elements in the list using a slice\n",
    "0.c Coerce one character of the list to display as a hex\n",
    "\n",
    "zero_a = ['first','second','third','fourth','fifth']\n",
    "zero_b = zero_a[1].upper()\n",
    "zero_c = hex(ord(zero_a[1][1]))\n",
    "\n",
    "#Problem 1: Lists, Sets and Coersion\n",
    "\n",
    "1.a Create a list of integers no fewer than 10 items from 0 to 9.\n",
    " .b Add 3 to the 5th indexed element\n",
    " .c Coerce all elements in the list to floats using list comprehension\n",
    " .d Coerce the list to a set\n",
    " .e Using a method, append int 10 to the set\n",
    " .f Using a method, pop an item from the set\n",
    " .g Using a length counting function, count the number of items in the set\n",
    " .h Check if the number of items in the set is the same as the \n",
    "    number of items in the list\n",
    " .i Coerce the set to a list and use the \"+\" operator combine the list to the list from 1.a\n",
    " .j Coerce 1.i to a set\n",
    " .k Count the number of elements in the 1.j\n",
    "\n",
    "\n",
    "\n",
    "Problem 2: Dictionary woes\n",
    "\n",
    "2.a Combine the three sample dictionaries (given below) into a nested dictionary (nested in programming means joined), named \n",
    "    two_a, ensure the key names are the same as the dictionary names.\n",
    " .b Using keys, retrieve the Dango's name from 2.a\n",
    " .c Using keys, update the value of Mochi's year to 2018. This should not be a variable\n",
    "    and should simply update 2.a.\n",
    " .d Manually create a dictionary that has a single level and contains each patient\n",
    "    as the key and the year as the value. Set Mochi's year to 2019.'\n",
    " .e Coerce the keys of 2.d into a list\n",
    " .f Coerce the values of 2.d into a list\n",
    " .g Use the zip function to combine 2.e and 2.f into a dictionary again\n",
    "\n",
    "\n",
    "two_patient_dictionary_kinoko = {\n",
    "  \"name\" : \"Kinoko\",\n",
    "  \"year\" : 2021\n",
    "}\n",
    "two_patient_dictionary_dango = {\n",
    "  \"name\" : \"Dango\",\n",
    "  \"year\" : 2019\n",
    "}\n",
    "two_patient_dictionary_mochi  = {\n",
    "  \"name\" : \"Mochi\",\n",
    "  \"year\" : 2020\n",
    "}\n",
    "\n",
    "\n",
    "\n",
    "Problem 3: Set combinations\n",
    "\n",
    "Given the predefined sets below and using set methods\n",
    "3.a Is set E a subset of set A\n",
    " .b Is set E a strict subset of set A\n",
    " .c Create a set that is the intersection of set A and set B\n",
    " .d Create a set that is the union of sets C, D and E\n",
    " .e add 9 to the set\n",
    " .f Using == compare this set to the list in one_a\n",
    " .g Explain why they are not the same. What would you need to change if you\n",
    "    wanted this to be True?\n",
    " \n",
    "\n",
    "three_setA = {1,2,3,4,5}\n",
    "three_setB = {2,3,4,5,6}\n",
    "three_setC = {3,5,7,9}\n",
    "three_setD = {2,4,6,8}\n",
    "three_setE = {1,2,3,4}\n",
    "\n",
    "\n",
    "\n",
    "Problem 4: Changing variable types\n",
    "\n",
    "For each step you will modify a variable, then append the type of the variable\n",
    "to a list. Do not recreate the list variable, it should be a running list of \n",
    "types.\n",
    "\n",
    "4.a Create a variable of type int with the value of 8\n",
    " .b Create an empty list \n",
    " .c Using type(), add the type of 4.a to this list\n",
    " .d Add 0.39 to 4.c\n",
    " .e append the type of 0.39 to the list\n",
    " .f exponentiate to the -10, ie: 4.d^-10,(hint: there might be an artihmetic operator to do so) round it to no \n",
    "    decimal places, and append to list.\n",
    " .g append the type to the list\n",
    " \n",
    " \n",
    "Problem 5: More variable type changes\n",
    "\n",
    "Continue from where you left off in Problem 4.\n",
    "\n",
    "5.a Manually create a dictionary where the values are items in the list from where we left in \n",
    "    problem 4, and the keys should be their index in the list. Print the dictionary.\n",
    " .b Add 300 and coerce it into a string\n",
    " .c append the type to the list\n",
    " .d slice the string up to the 2nd element\n",
    " .e append the type to the list\n",
    " .f use list comprehension to convert this into a new list of integers\n",
    " .g append the type to the list\n",
    " .h append the type of three_setA to the list\n",
    "\"\"\"\n",
    "\n",
    "#Start your assignment here\n",
    "print(\"Assignment 3\")\n",
    "\n"
   ]
  },
  {
   "cell_type": "code",
   "execution_count": 2,
   "id": "48139e29-4a13-480c-980d-7e9358dc91dc",
   "metadata": {},
   "outputs": [
    {
     "name": "stdout",
     "output_type": "stream",
     "text": [
      "[0, 1, 2, 3, 4, 5, 6, 7, 8, 9]\n"
     ]
    }
   ],
   "source": [
    "\"\"\"\n",
    "1.a Create a list of integers no fewer than 10 items from 0 to 9.\n",
    "\"\"\"\n",
    "\n",
    "one_a = [0,1,2,3,4,5,6,7,8,9]\n",
    "print(one_a)"
   ]
  },
  {
   "cell_type": "code",
   "execution_count": 3,
   "id": "4263ab11-8e43-45dc-bb75-a2420a6d6cb6",
   "metadata": {},
   "outputs": [
    {
     "name": "stdout",
     "output_type": "stream",
     "text": [
      "[0, 1, 2, 3, 4, 3, 5, 6, 7, 8, 9]\n"
     ]
    }
   ],
   "source": [
    "\"\"\"\n",
    " .b Add 3 to the 5th indexed element\n",
    "\"\"\"\n",
    "one_a.insert(5,3)\n",
    "one_b = one_a\n",
    "print(one_b)"
   ]
  },
  {
   "cell_type": "code",
   "execution_count": 4,
   "id": "55642088-a120-47b0-9456-620ce16485d8",
   "metadata": {},
   "outputs": [
    {
     "name": "stdout",
     "output_type": "stream",
     "text": [
      "[0.0, 1.0, 2.0, 3.0, 4.0, 3.0, 5.0, 6.0, 7.0, 8.0, 9.0]\n"
     ]
    }
   ],
   "source": [
    "\"\"\" \n",
    " .c Coerce all elements in the list to floats using list comprehension\n",
    "\"\"\"\n",
    "one_c = [float(x) for x in one_b]\n",
    "print(one_c)"
   ]
  },
  {
   "cell_type": "code",
   "execution_count": 5,
   "id": "4332f2a1-f44b-40db-aac5-3f92ed4be4e2",
   "metadata": {},
   "outputs": [
    {
     "name": "stdout",
     "output_type": "stream",
     "text": [
      "{0.0, 1.0, 2.0, 3.0, 4.0, 5.0, 6.0, 7.0, 8.0, 9.0} <class 'set'>\n"
     ]
    }
   ],
   "source": [
    "\"\"\"\n",
    " .d Coerce the list to a set\n",
    "\"\"\"\n",
    "one_d = set(one_c)\n",
    "print(one_d,type(one_d))"
   ]
  },
  {
   "cell_type": "code",
   "execution_count": 6,
   "id": "c91740a6-0517-43a0-b9bd-9e6dfe325e6c",
   "metadata": {},
   "outputs": [
    {
     "name": "stdout",
     "output_type": "stream",
     "text": [
      "{0.0, 1.0, 2.0, 3.0, 4.0, 5.0, 6.0, 7.0, 8.0, 9.0, 10}\n"
     ]
    }
   ],
   "source": [
    "\"\"\"\n",
    " .e Using a method, append int 10 to the set\n",
    "\"\"\"\n",
    "one_d.add(10)\n",
    "one_e = one_d\n",
    "print(one_e)"
   ]
  },
  {
   "cell_type": "code",
   "execution_count": 7,
   "id": "b1d902b3-56c9-437c-92eb-ab1032b1af19",
   "metadata": {},
   "outputs": [
    {
     "name": "stdout",
     "output_type": "stream",
     "text": [
      "{1.0, 2.0, 3.0, 4.0, 5.0, 6.0, 7.0, 8.0, 9.0, 10}\n"
     ]
    }
   ],
   "source": [
    "\"\"\"\n",
    " .f Using a method, pop an item from the set\n",
    "\"\"\"\n",
    "one_e.remove(0)\n",
    "one_f = one_e\n",
    "print(one_f)"
   ]
  },
  {
   "cell_type": "code",
   "execution_count": 8,
   "id": "ade4d2a9-9a4f-4926-b112-424f5b449eb9",
   "metadata": {},
   "outputs": [
    {
     "name": "stdout",
     "output_type": "stream",
     "text": [
      "10\n"
     ]
    }
   ],
   "source": [
    "\"\"\"\n",
    " .g Using a length counting function, count the number of items in the set\n",
    "\"\"\"\n",
    "one_g = len(one_f)\n",
    "print(one_g)"
   ]
  },
  {
   "cell_type": "code",
   "execution_count": 9,
   "id": "4b94b8dd-566d-4667-8798-86ed4b39017e",
   "metadata": {},
   "outputs": [
    {
     "name": "stdout",
     "output_type": "stream",
     "text": [
      "False\n"
     ]
    }
   ],
   "source": [
    "\"\"\"\n",
    " .h Check if the number of items in the set is the same as the \n",
    "    number of items in the list\n",
    "\"\"\"\n",
    "one_h = len(one_c) == len(one_f)\n",
    "print(one_h)\n"
   ]
  },
  {
   "cell_type": "code",
   "execution_count": 10,
   "id": "fb8f70a1-c840-4652-a65e-48d68917ae56",
   "metadata": {},
   "outputs": [
    {
     "name": "stdout",
     "output_type": "stream",
     "text": [
      "[1.0, 2.0, 3.0, 4.0, 5.0, 6.0, 7.0, 8.0, 9.0, 10, 0, 1, 2, 3, 4, 3, 5, 6, 7, 8, 9]\n"
     ]
    }
   ],
   "source": [
    "\"\"\"\n",
    " .i Coerce the set to a list and use the \"+\" operator combine the list to the list from 1.a\n",
    "\"\"\"\n",
    "one_i = list(one_f) + one_a\n",
    "print(one_i)"
   ]
  },
  {
   "cell_type": "code",
   "execution_count": 11,
   "id": "219a09d4-a18e-477f-ae62-40b7270a50b4",
   "metadata": {},
   "outputs": [
    {
     "name": "stdout",
     "output_type": "stream",
     "text": [
      "{0, 1.0, 2.0, 3.0, 4.0, 5.0, 6.0, 7.0, 8.0, 9.0, 10}\n"
     ]
    }
   ],
   "source": [
    "\"\"\"\n",
    " .j Coerce 1.i to a set\n",
    "\"\"\"\n",
    "one_j = set(one_i)\n",
    "print(one_j)"
   ]
  },
  {
   "cell_type": "code",
   "execution_count": 12,
   "id": "d1607130-510c-48ef-9820-1c7738351af9",
   "metadata": {},
   "outputs": [
    {
     "name": "stdout",
     "output_type": "stream",
     "text": [
      "11\n"
     ]
    }
   ],
   "source": [
    "\"\"\"\n",
    " .k Count the number of elements in the 1.j\n",
    "\"\"\"\n",
    "one_k = len(one_j)\n",
    "print(one_k)"
   ]
  },
  {
   "cell_type": "code",
   "execution_count": 13,
   "id": "572a1083-e11a-4425-9810-df050d229b44",
   "metadata": {},
   "outputs": [
    {
     "data": {
      "text/plain": [
       "' Problem 2 '"
      ]
     },
     "execution_count": 13,
     "metadata": {},
     "output_type": "execute_result"
    }
   ],
   "source": [
    "\"\"\" Problem 2 \"\"\""
   ]
  },
  {
   "cell_type": "code",
   "execution_count": 14,
   "id": "4d362e7b-fa71-4a72-a16a-0118085fcbc5",
   "metadata": {},
   "outputs": [
    {
     "name": "stdout",
     "output_type": "stream",
     "text": [
      "dict_keys(['two_patient_dictionary_kinok', 'two_patient_dictionary_dango', 'two_patient_dictionary_mochi'])\n"
     ]
    }
   ],
   "source": [
    "\"\"\"2.a Combine the three sample dictionaries (given below) into a nested dictionary (nested in programming means joined), named \n",
    "    two_a, ensure the key names are the same as the dictionary names.\n",
    " \"\"\"\n",
    "\n",
    "two_patient_dictionary_kinoko = {\n",
    "  \"name\" : \"Kinoko\",\n",
    "  \"year\" : 2021\n",
    "}\n",
    "two_patient_dictionary_dango = {\n",
    "  \"name\" : \"Dango\",\n",
    "  \"year\" : 2019\n",
    "}\n",
    "two_patient_dictionary_mochi  = {\n",
    "  \"name\" : \"Mochi\",\n",
    "  \"year\" : 2020\n",
    "}\n",
    "\n",
    "two_a = {\n",
    "    \"two_patient_dictionary_kinok\":two_patient_dictionary_kinoko,\n",
    "    \"two_patient_dictionary_dango\":two_patient_dictionary_dango,\n",
    "    \"two_patient_dictionary_mochi\":two_patient_dictionary_mochi\n",
    "}\n",
    "\n",
    "print(two_a.keys())\n"
   ]
  },
  {
   "cell_type": "code",
   "execution_count": 15,
   "id": "40c826f5-8530-4a7a-808d-5487065bcb1a",
   "metadata": {},
   "outputs": [
    {
     "name": "stdout",
     "output_type": "stream",
     "text": [
      "Dango\n"
     ]
    }
   ],
   "source": [
    "\"\"\"\n",
    ".b Using keys, retrieve the Dango's name from 2.a\n",
    " \"\"\"\n",
    "\n",
    "two_b = two_a[\"two_patient_dictionary_dango\"][\"name\"]\n",
    "print(two_b)"
   ]
  },
  {
   "cell_type": "code",
   "execution_count": 16,
   "id": "55f8e4fe-4103-4264-97ad-86fe4c967a82",
   "metadata": {},
   "outputs": [
    {
     "name": "stdout",
     "output_type": "stream",
     "text": [
      "2018\n"
     ]
    }
   ],
   "source": [
    "\"\"\".c Using keys, update the value of Mochi's year to 2018. This should not be a variable\n",
    "    and should simply update 2.a.\n",
    "\"\"\"\n",
    "\n",
    "two_a[\"two_patient_dictionary_mochi\"][\"year\"]= 2018\n",
    "two_c = two_a\n",
    "print(two_c[\"two_patient_dictionary_mochi\"][\"year\"])"
   ]
  },
  {
   "cell_type": "code",
   "execution_count": 17,
   "id": "cc79ad53-a552-4928-b8f9-1a143fb0d26f",
   "metadata": {},
   "outputs": [
    {
     "name": "stdout",
     "output_type": "stream",
     "text": [
      "{'Kinoko': 2021, 'Dango': 2019, 'Mochi': 2019}\n"
     ]
    }
   ],
   "source": [
    "\"\"\" .d Manually create a dictionary that has a single level and contains each patient\n",
    "    as the key and the year as the value. Set Mochi's year to 2019.'\n",
    "\"\"\"\n",
    "two_d = {}\n",
    "for key in two_a.keys():\n",
    "    name = two_a[key][\"name\"]\n",
    "    year = two_a[key][\"year\"]\n",
    "    if name == \"Mochi\":\n",
    "        year = 2019\n",
    "    two_d[name] = year\n",
    "\n",
    "print(two_d)"
   ]
  },
  {
   "cell_type": "code",
   "execution_count": 18,
   "id": "898ba987-e53d-4ac7-849c-ef962361dde7",
   "metadata": {},
   "outputs": [
    {
     "name": "stdout",
     "output_type": "stream",
     "text": [
      "['Kinoko', 'Dango', 'Mochi']\n"
     ]
    }
   ],
   "source": [
    "\"\"\" .e Coerce the keys of 2.d into a list\n",
    "\"\"\"\n",
    "\n",
    "two_e = [x for x in two_d.keys()]\n",
    "print(two_e)"
   ]
  },
  {
   "cell_type": "code",
   "execution_count": 19,
   "id": "07964c8e-7d20-4cbd-b4cd-6fb7b9136cff",
   "metadata": {},
   "outputs": [
    {
     "name": "stdout",
     "output_type": "stream",
     "text": [
      "[2021, 2019, 2019]\n"
     ]
    }
   ],
   "source": [
    "\"\"\" .f Coerce the values of 2.d into a list\n",
    "\"\"\"\n",
    "\n",
    "two_f = [x for x in two_d.values()]\n",
    "print(two_f)"
   ]
  },
  {
   "cell_type": "code",
   "execution_count": 20,
   "id": "cb6cb65b-5910-49d7-a7c1-63bfd7fdcabd",
   "metadata": {},
   "outputs": [
    {
     "name": "stdout",
     "output_type": "stream",
     "text": [
      "{'Kinoko': 2021, 'Dango': 2019, 'Mochi': 2019}\n"
     ]
    }
   ],
   "source": [
    "\"\"\".g Use the zip function to combine 2.e and 2.f into a dictionary again\"\"\"\n",
    "\n",
    "two_g = dict(zip(two_e,two_f))\n",
    "print(two_g)"
   ]
  },
  {
   "cell_type": "code",
   "execution_count": 21,
   "id": "fdb421cf-075b-48a7-9a71-662105f978b5",
   "metadata": {},
   "outputs": [
    {
     "name": "stdout",
     "output_type": "stream",
     "text": [
      "True\n"
     ]
    }
   ],
   "source": [
    "\"\"\"Problem 3: Set combinations\n",
    "\n",
    "Given the predefined sets below and using set methods\n",
    "3.a Is set E a subset of set A\n",
    "\"\"\"\n",
    "\n",
    "three_setA = {1,2,3,4,5}\n",
    "three_setB = {2,3,4,5,6}\n",
    "three_setC = {3,5,7,9}\n",
    "three_setD = {2,4,6,8}\n",
    "three_setE = {1,2,3,4}\n",
    "\n",
    "three_a = three_setE <= three_setA ## subset\n",
    "print(three_a)"
   ]
  },
  {
   "cell_type": "code",
   "execution_count": 22,
   "id": "61d79222-6316-4e4d-878b-e8b96b328f98",
   "metadata": {},
   "outputs": [
    {
     "name": "stdout",
     "output_type": "stream",
     "text": [
      "True\n"
     ]
    }
   ],
   "source": [
    "\"\"\"\n",
    " .b Is set E a strict subset of set A\n",
    "\"\"\"\n",
    "\n",
    "three_b = three_setE < three_setA # strict subset\n",
    "print(three_b)"
   ]
  },
  {
   "cell_type": "code",
   "execution_count": 23,
   "id": "c6b81126-1b36-4c97-8424-d1f7b160eda6",
   "metadata": {},
   "outputs": [
    {
     "name": "stdout",
     "output_type": "stream",
     "text": [
      "{2, 3, 4, 5}\n"
     ]
    }
   ],
   "source": [
    "\"\"\"\n",
    " .c Create a set that is the intersection of set A and set B\n",
    "\"\"\"\n",
    "three_c = three_setA.intersection(three_setB)\n",
    "print(three_c)"
   ]
  },
  {
   "cell_type": "code",
   "execution_count": 24,
   "id": "d49756e5-a608-431a-9b1a-05f80420b4df",
   "metadata": {},
   "outputs": [
    {
     "name": "stdout",
     "output_type": "stream",
     "text": [
      "{1, 2, 3, 4, 5, 6, 7, 8, 9}\n"
     ]
    }
   ],
   "source": [
    "\"\"\"\n",
    " .d Create a set that is the union of sets C, D and E\n",
    "\"\"\"\n",
    "three_d = three_setC.union(three_setD,three_setE)\n",
    "print(three_d)"
   ]
  },
  {
   "cell_type": "code",
   "execution_count": 25,
   "id": "122e1ddb-0022-4a79-8c51-69e3602cae6e",
   "metadata": {},
   "outputs": [
    {
     "name": "stdout",
     "output_type": "stream",
     "text": [
      "{1, 2, 3, 4, 5, 6, 7, 8, 9}\n"
     ]
    }
   ],
   "source": [
    "\"\"\"\n",
    " .e add 9 to the set\n",
    "\"\"\"\n",
    "\n",
    "three_e = three_d\n",
    "three_e.add(9)\n",
    "print(three_e)"
   ]
  },
  {
   "cell_type": "code",
   "execution_count": 26,
   "id": "fc6b1483-d71a-4c7e-861e-fb805a943ea1",
   "metadata": {},
   "outputs": [
    {
     "name": "stdout",
     "output_type": "stream",
     "text": [
      "False\n"
     ]
    }
   ],
   "source": [
    "\"\"\" \n",
    ".f Using == compare this set to the list in one_a\n",
    "\"\"\"\n",
    "print(one_a == three_e)\n"
   ]
  },
  {
   "cell_type": "code",
   "execution_count": 27,
   "id": "917d2b00-701c-49d1-b673-1ccf90c936bc",
   "metadata": {},
   "outputs": [
    {
     "name": "stdout",
     "output_type": "stream",
     "text": [
      "True\n"
     ]
    }
   ],
   "source": [
    "\"\"\"\n",
    " .g Explain why they are not the same. What would you need to change if you\n",
    "    wanted this to be True?\n",
    "\"\"\"\n",
    "# one_a is not the same as three_e because: three_e doesn't contain the integer 0. Addtionally one_a is a list, not a set. \n",
    "# to fix this, you must add the integer 0 to the set three_e, and then convert the list one_a to a set.\n",
    "\n",
    "three_e.add(0) # add a 0\n",
    "three_g = set(one_a)\n",
    "\n",
    "print(three_g == three_e)"
   ]
  },
  {
   "cell_type": "code",
   "execution_count": 28,
   "id": "bac40f47-0f03-4109-8a59-61084c71865c",
   "metadata": {},
   "outputs": [],
   "source": [
    "\"\"\"\n",
    "Problem 4: Changing variable types\n",
    "\n",
    "For each step you will modify a variable, then append the type of the variable\n",
    "to a list. Do not recreate the list variable, it should be a running list of \n",
    "types.\n",
    "\n",
    "4.a Create a variable of type int with the value of 8\n",
    "\"\"\"\n",
    "four_a = 8\n",
    "\n",
    "\n",
    "\n"
   ]
  },
  {
   "cell_type": "code",
   "execution_count": 29,
   "id": "dd2ad3bf-7549-40b2-9351-70798b637e22",
   "metadata": {},
   "outputs": [],
   "source": [
    "\"\"\"\n",
    " .b Create an empty list \n",
    "\"\"\"\n",
    "four_b = []\n"
   ]
  },
  {
   "cell_type": "code",
   "execution_count": 30,
   "id": "fa4adc9b-4228-4468-9880-da69b582a77f",
   "metadata": {},
   "outputs": [],
   "source": [
    "\"\"\".c Using type(), add the type of 4.a to this list\n",
    "\n",
    "\"\"\"\n",
    "four_b.append(four_a)\n",
    "four_b.append(type(four_a))"
   ]
  },
  {
   "cell_type": "code",
   "execution_count": 31,
   "id": "cce6b7c9-bff8-43a5-873e-d130a8963896",
   "metadata": {},
   "outputs": [
    {
     "name": "stdout",
     "output_type": "stream",
     "text": [
      "8.39\n"
     ]
    }
   ],
   "source": [
    "\"\"\"\n",
    " .d Add 0.39 to 4.c\n",
    "\"\"\"\n",
    "\n",
    "four_d = four_a + 0.39\n",
    "print(four_d)\n"
   ]
  },
  {
   "cell_type": "code",
   "execution_count": 32,
   "id": "40af9e2f-5c05-43ec-8311-296ad79df77e",
   "metadata": {},
   "outputs": [],
   "source": [
    "\"\"\"\n",
    " .e append the type of 0.39 to the list\n",
    "\"\"\"\n",
    "four_b.append(0.39)\n",
    "four_b.append(type(0.39))\n"
   ]
  },
  {
   "cell_type": "code",
   "execution_count": 33,
   "id": "02ce13b9-54a2-42c3-98ba-55e0c5759d37",
   "metadata": {},
   "outputs": [
    {
     "name": "stdout",
     "output_type": "stream",
     "text": [
      "0\n"
     ]
    }
   ],
   "source": [
    "\"\"\"\n",
    " .f exponentiate to the -10, ie: 4.d^-10,(hint: there might be an artihmetic operator to do so) round it to no \n",
    "    decimal places, and append to list.\n",
    "\"\"\"\n",
    "four_f = round(four_d ** -10)\n",
    "four_b.append(four_f)\n",
    "print(four_f)"
   ]
  },
  {
   "cell_type": "code",
   "execution_count": 34,
   "id": "a9192937-0722-4076-b2da-a34774929e7e",
   "metadata": {},
   "outputs": [
    {
     "name": "stdout",
     "output_type": "stream",
     "text": [
      "[8, <class 'int'>, 0.39, <class 'float'>, 0, <class 'int'>]\n"
     ]
    }
   ],
   "source": [
    "\"\"\" \n",
    ".g append the type to the list\n",
    "\"\"\"\n",
    "four_b.append(type(four_f))\n",
    "\n",
    "print(four_b)"
   ]
  },
  {
   "cell_type": "code",
   "execution_count": 35,
   "id": "6193eed8-f971-4c71-a9a0-1c3714ed3a00",
   "metadata": {},
   "outputs": [
    {
     "name": "stdout",
     "output_type": "stream",
     "text": [
      "{0: 8, 1: <class 'int'>, 2: 0.39, 3: <class 'float'>, 4: 0, 5: <class 'int'>}\n"
     ]
    }
   ],
   "source": [
    "\"\"\"\n",
    "5.a Manually create a dictionary where the values are items in the list from where we left in \n",
    "    problem 4, and the keys should be their index in the list. Print the dictionary.\n",
    "\"\"\"\n",
    "five_a = {}\n",
    "for index,value in enumerate(four_b):\n",
    "    five_a[index]=value\n",
    "\n",
    "print(five_a)\n",
    "\n"
   ]
  },
  {
   "cell_type": "code",
   "execution_count": 36,
   "id": "0d4ecc82-4b1a-499a-8805-49471876b8c2",
   "metadata": {},
   "outputs": [],
   "source": [
    "\"\"\"\n",
    ".b Add 300 and coerce it into a string\n",
    "\"\"\"\n",
    "\n",
    "five_b = str(300)\n",
    "four_b.append(five_b)\n",
    "\n"
   ]
  },
  {
   "cell_type": "code",
   "execution_count": 37,
   "id": "f35454f8-39c3-4b56-9738-c880dcb53381",
   "metadata": {},
   "outputs": [],
   "source": [
    "\"\"\" .c append the type to the list\n",
    "\"\"\"\n",
    "\n",
    "four_b.append(type(five_b))\n"
   ]
  },
  {
   "cell_type": "code",
   "execution_count": 38,
   "id": "d374ce09-77b8-4f3d-8c1e-ffdbdc82dea0",
   "metadata": {},
   "outputs": [
    {
     "name": "stdout",
     "output_type": "stream",
     "text": [
      "[8, <class 'int'>, 0.39, <class 'float'>, 0, <class 'int'>, '300', <class 'str'>, '30', <class 'str'>]\n"
     ]
    }
   ],
   "source": [
    "\"\"\"\n",
    " .d slice the string up to the 2nd element\n",
    " .e append the type to the list\n",
    "\"\"\"\n",
    "\n",
    "five_d = five_b[:2]\n",
    "four_b.append(five_d)\n",
    "four_b.append(type(five_d))\n",
    "print(four_b)"
   ]
  },
  {
   "cell_type": "code",
   "execution_count": 39,
   "id": "32bccf7b-c0be-47b5-bfac-b227b7f98960",
   "metadata": {},
   "outputs": [
    {
     "name": "stdout",
     "output_type": "stream",
     "text": [
      "[8, 0, 0, 300, 30]\n"
     ]
    }
   ],
   "source": [
    "\"\"\" \n",
    " .f use list comprehension to convert this into a new list of integers\n",
    "\"\"\"\n",
    "\n",
    "five_f = [int(x) for x in four_b if isinstance(x,(str,int,float))]\n",
    "print(five_f)"
   ]
  },
  {
   "cell_type": "code",
   "execution_count": 40,
   "id": "0d823d41-10aa-4ded-b8d4-866f9448890a",
   "metadata": {},
   "outputs": [],
   "source": [
    "\"\"\"\n",
    " .g append the type to the list\n",
    "\"\"\"\n",
    "\n",
    "four_b.append(type(five_f))"
   ]
  },
  {
   "cell_type": "code",
   "execution_count": 41,
   "id": "d145072c-0034-4aa3-bedb-fb1bfa3a9977",
   "metadata": {},
   "outputs": [
    {
     "name": "stdout",
     "output_type": "stream",
     "text": [
      "[8, <class 'int'>, 0.39, <class 'float'>, 0, <class 'int'>, '300', <class 'str'>, '30', <class 'str'>, <class 'list'>, <class 'set'>]\n"
     ]
    }
   ],
   "source": [
    "\"\"\"\n",
    " .h append the type of three_setA to the list\n",
    "\"\"\"\n",
    "\n",
    "four_b.append(type(three_setA))\n",
    "print(four_b)"
   ]
  },
  {
   "cell_type": "code",
   "execution_count": null,
   "id": "43c61910",
   "metadata": {},
   "outputs": [],
   "source": []
  },
  {
   "cell_type": "code",
   "execution_count": null,
   "id": "367710fd",
   "metadata": {},
   "outputs": [],
   "source": []
  },
  {
   "cell_type": "code",
   "execution_count": null,
   "id": "7b05f1c7-237b-4e9f-855b-27080ded089e",
   "metadata": {},
   "outputs": [],
   "source": []
  },
  {
   "cell_type": "markdown",
   "id": "dfdff34c-cd16-4e50-aafb-aa5699f57a0a",
   "metadata": {},
   "source": [
    "# "
   ]
  },
  {
   "cell_type": "code",
   "execution_count": null,
   "id": "030d85b4-dac9-4fdc-bfe1-3aca07727014",
   "metadata": {},
   "outputs": [],
   "source": []
  }
 ],
 "metadata": {
  "kernelspec": {
   "display_name": "Python 3 (ipykernel)",
   "language": "python",
   "name": "python3"
  },
  "language_info": {
   "codemirror_mode": {
    "name": "ipython",
    "version": 3
   },
   "file_extension": ".py",
   "mimetype": "text/x-python",
   "name": "python",
   "nbconvert_exporter": "python",
   "pygments_lexer": "ipython3",
   "version": "3.12.8"
  }
 },
 "nbformat": 4,
 "nbformat_minor": 5
}
