{
 "cells": [
  {
   "cell_type": "code",
   "execution_count": 1,
   "id": "a790f35d-2781-4f38-93c1-28e191203767",
   "metadata": {},
   "outputs": [],
   "source": [
    "output = \"I, Stein Ingebretsen, have successfully installed and run a python program on my computer!\""
   ]
  },
  {
   "cell_type": "code",
   "execution_count": 2,
   "id": "6b008e65-e483-404e-9402-8b88e2617f74",
   "metadata": {},
   "outputs": [
    {
     "name": "stdout",
     "output_type": "stream",
     "text": [
      "I, Stein Ingebretsen, have successfully installed and run a python program on my computer!\n"
     ]
    }
   ],
   "source": [
    "print(output)"
   ]
  },
  {
   "cell_type": "code",
   "execution_count": null,
   "id": "53703a98-94b2-4cb6-89f0-12b7922ea726",
   "metadata": {},
   "outputs": [],
   "source": []
  }
 ],
 "metadata": {
  "kernelspec": {
   "display_name": "Python 3 (ipykernel)",
   "language": "python",
   "name": "python3"
  },
  "language_info": {
   "codemirror_mode": {
    "name": "ipython",
    "version": 3
   },
   "file_extension": ".py",
   "mimetype": "text/x-python",
   "name": "python",
   "nbconvert_exporter": "python",
   "pygments_lexer": "ipython3",
   "version": "3.12.8"
  }
 },
 "nbformat": 4,
 "nbformat_minor": 5
}
