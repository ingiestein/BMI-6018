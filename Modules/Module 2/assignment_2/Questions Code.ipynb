{
 "cells": [
  {
   "cell_type": "code",
   "execution_count": 10,
   "id": "5cc9b91f-fe08-490d-b1d0-9849b3580858",
   "metadata": {},
   "outputs": [
    {
     "data": {
      "text/plain": [
       "2"
      ]
     },
     "execution_count": 10,
     "metadata": {},
     "output_type": "execute_result"
    }
   ],
   "source": [
    "# Q1 Booleans\n",
    "# boolean True + boolean True - boolean False = ?\n",
    "True + True - False"
   ]
  },
  {
   "cell_type": "code",
   "execution_count": 11,
   "id": "44d345d7-6600-4bc6-a671-35d99dbccc9b",
   "metadata": {},
   "outputs": [
    {
     "name": "stdout",
     "output_type": "stream",
     "text": [
      "1\n"
     ]
    }
   ],
   "source": [
    "# Q2 Booleans 2 \n",
    "# logical tracker = True\n",
    "#logical tracker = logical tracker & logical tracker\n",
    "#logical tracker = logical tracker | (logical tracker - logical tracker)\n",
    "#logical tracker  = ?\n",
    "\n",
    "tracker = True\n",
    "tracker = tracker & tracker\n",
    "tracker = tracker | (tracker - tracker)\n",
    "print(tracker)"
   ]
  },
  {
   "cell_type": "code",
   "execution_count": 12,
   "id": "d33a80d1-8937-48b5-ab4f-d949e29b9a8b",
   "metadata": {},
   "outputs": [
    {
     "name": "stdout",
     "output_type": "stream",
     "text": [
      "mystring[2] =  \n"
     ]
    }
   ],
   "source": [
    "# Q5 Strings\n",
    "#string = \"E. Coli\"\n",
    "#string[2]=\n",
    "mystring = \"E. Coli\"\n",
    "print(f\"mystring[2] = {mystring[2]}\")\n"
   ]
  },
  {
   "cell_type": "code",
   "execution_count": 13,
   "id": "9f10f2a0-113e-434d-b441-b5d3c9603726",
   "metadata": {},
   "outputs": [
    {
     "ename": "TypeError",
     "evalue": "'str' object does not support item assignment",
     "output_type": "error",
     "traceback": [
      "\u001b[31m---------------------------------------------------------------------------\u001b[39m",
      "\u001b[31mTypeError\u001b[39m                                 Traceback (most recent call last)",
      "\u001b[36mCell\u001b[39m\u001b[36m \u001b[39m\u001b[32mIn[13]\u001b[39m\u001b[32m, line 8\u001b[39m\n\u001b[32m      1\u001b[39m \u001b[38;5;66;03m# Q6 Strings 2\u001b[39;00m\n\u001b[32m      2\u001b[39m \u001b[38;5;66;03m#Oh no! My string has a typo!\u001b[39;00m\n\u001b[32m      3\u001b[39m \u001b[38;5;66;03m#string = \"I Bove python\"\u001b[39;00m\n\u001b[32m      4\u001b[39m \u001b[38;5;66;03m#No worries though. I'll just fix that.\u001b[39;00m\n\u001b[32m      5\u001b[39m \u001b[38;5;66;03m#string[2]=\"L\"\u001b[39;00m\n\u001b[32m      7\u001b[39m mystring = \u001b[33m\"\u001b[39m\u001b[33mI Bove python\u001b[39m\u001b[33m\"\u001b[39m\n\u001b[32m----> \u001b[39m\u001b[32m8\u001b[39m \u001b[43mmystring\u001b[49m\u001b[43m[\u001b[49m\u001b[32;43m2\u001b[39;49m\u001b[43m]\u001b[49m=\u001b[33m\"\u001b[39m\u001b[33mL\u001b[39m\u001b[33m\"\u001b[39m\n",
      "\u001b[31mTypeError\u001b[39m: 'str' object does not support item assignment"
     ]
    }
   ],
   "source": [
    "# Q6 Strings 2\n",
    "#Oh no! My string has a typo!\n",
    "#string = \"I Bove python\"\n",
    "#No worries though. I'll just fix that.\n",
    "#string[2]=\"L\"\n",
    "\n",
    "mystring = \"I Bove python\"\n",
    "mystring[2]=\"L\""
   ]
  },
  {
   "cell_type": "code",
   "execution_count": 16,
   "id": "660216da-e572-47f3-ab7b-277fe1f37776",
   "metadata": {},
   "outputs": [
    {
     "name": "stdout",
     "output_type": "stream",
     "text": [
      "val:  2\n",
      "type(val):  <class 'int'>\n",
      "mystring:  This String\n",
      "type(mystring):  <class 'str'>\n"
     ]
    }
   ],
   "source": [
    "# Q9 \"+\" operand\n",
    "val = 1+1\n",
    "print(\"val: \", val)\n",
    "print(\"type(val): \", type(val))\n",
    "mystring = \"This \" + \"String\"\n",
    "print(\"mystring: \", mystring)\n",
    "print(\"type(mystring): \", type(mystring))\n"
   ]
  },
  {
   "cell_type": "code",
   "execution_count": 18,
   "id": "05f01397-3b2b-4f80-9f47-58c0517b9f04",
   "metadata": {},
   "outputs": [
    {
     "name": "stdout",
     "output_type": "stream",
     "text": [
      "result:  73\n",
      "type(result):  <class 'str'>\n"
     ]
    }
   ],
   "source": [
    "# Q10 string number addition\n",
    "\n",
    "result = \"7\" + \"3\"\n",
    "print(\"result: \", result)\n",
    "print(\"type(result): \", type(result))"
   ]
  },
  {
   "cell_type": "code",
   "execution_count": null,
   "id": "b0cbe637-cff7-470c-9360-cb8822a04056",
   "metadata": {},
   "outputs": [],
   "source": []
  }
 ],
 "metadata": {
  "kernelspec": {
   "display_name": "Python 3 (ipykernel)",
   "language": "python",
   "name": "python3"
  },
  "language_info": {
   "codemirror_mode": {
    "name": "ipython",
    "version": 3
   },
   "file_extension": ".py",
   "mimetype": "text/x-python",
   "name": "python",
   "nbconvert_exporter": "python",
   "pygments_lexer": "ipython3",
   "version": "3.12.8"
  }
 },
 "nbformat": 4,
 "nbformat_minor": 5
}
