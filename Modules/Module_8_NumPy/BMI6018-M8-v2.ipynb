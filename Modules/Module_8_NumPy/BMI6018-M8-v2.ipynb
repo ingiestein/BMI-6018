{
 "cells": [
  {
   "cell_type": "markdown",
   "id": "c22a1c9f-d5ba-4545-adb9-6b3753960f37",
   "metadata": {},
   "source": [
    "# Libraries"
   ]
  },
  {
   "cell_type": "markdown",
   "id": "15b352fd-4139-40f1-be66-19cfc909b2dd",
   "metadata": {},
   "source": [
    "## NumPy"
   ]
  },
  {
   "cell_type": "code",
   "execution_count": 33,
   "id": "2503816f-9c60-4aac-8947-83dbf0b86d27",
   "metadata": {
    "tags": []
   },
   "outputs": [],
   "source": [
    "import numpy as np # generally imported as np"
   ]
  },
  {
   "cell_type": "code",
   "execution_count": 34,
   "id": "1377be07-e06f-4df8-a1ff-282ca5d8b52a",
   "metadata": {},
   "outputs": [
    {
     "name": "stdout",
     "output_type": "stream",
     "text": [
      "[1 2 3 4]\n",
      "\n"
     ]
    }
   ],
   "source": [
    "#create 1D array\n",
    "\n",
    "arr_1d = np.array([1,2,3,4])\n",
    "print(arr_1d)\n",
    "print()"
   ]
  },
  {
   "cell_type": "code",
   "execution_count": 35,
   "id": "38882920",
   "metadata": {},
   "outputs": [],
   "source": [
    "from numpy import array # importing the whole library mi"
   ]
  },
  {
   "cell_type": "code",
   "execution_count": 36,
   "id": "60216212",
   "metadata": {},
   "outputs": [
    {
     "name": "stdout",
     "output_type": "stream",
     "text": [
      "[1 2 3 4]\n",
      "\n"
     ]
    }
   ],
   "source": [
    "arr_1d = array([1,2,3,4])\n",
    "print(arr_1d)\n",
    "print()"
   ]
  },
  {
   "cell_type": "markdown",
   "id": "e67d3723",
   "metadata": {},
   "source": [
    "## you can shorten up more\n"
   ]
  },
  {
   "cell_type": "code",
   "execution_count": 37,
   "id": "d2394ffe",
   "metadata": {},
   "outputs": [
    {
     "name": "stdout",
     "output_type": "stream",
     "text": [
      "[1 2 3 4]\n",
      "\n"
     ]
    }
   ],
   "source": [
    "from numpy import array as ar\n",
    "arr_1d = ar([1,2,3,4])\n",
    "print(arr_1d)\n",
    "print()"
   ]
  },
  {
   "cell_type": "code",
   "execution_count": 38,
   "id": "3992224b-eb4a-4cf5-82da-72a8cb5859f0",
   "metadata": {},
   "outputs": [
    {
     "name": "stdout",
     "output_type": "stream",
     "text": [
      "[[1 2 3 4]\n",
      " [5 6 7 8]]\n"
     ]
    }
   ],
   "source": [
    "#create 2D array\n",
    "arr_2d = np.array([[1,2,3,4],[5,6,7,8]])\n",
    "print(arr_2d)"
   ]
  },
  {
   "cell_type": "code",
   "execution_count": 39,
   "id": "6b1b9f8f-0fa7-4343-9342-982c8a82da70",
   "metadata": {},
   "outputs": [
    {
     "name": "stdout",
     "output_type": "stream",
     "text": [
      "[1 2 3 4 5 6 7 8]\n",
      "[[1 2 3 4]\n",
      " [5 6 7 8]]\n"
     ]
    }
   ],
   "source": [
    "#reshape array\n",
    "arr_1d = np.array([1,2,3,4,5,6,7,8])\n",
    "print(arr_1d)\n",
    "\n",
    "arr_2d = arr_1d.reshape(2,4)\n",
    "print(arr_2d)"
   ]
  },
  {
   "cell_type": "code",
   "execution_count": 40,
   "id": "96d53afe-7718-4893-b8f1-2560888fc193",
   "metadata": {
    "tags": []
   },
   "outputs": [
    {
     "name": "stdout",
     "output_type": "stream",
     "text": [
      "[1 2 3 4 5 6 7 8]\n",
      "[ 3  4  5  6  7  8  9 10]\n"
     ]
    }
   ],
   "source": [
    "#add value to all elements\n",
    "print(arr_1d)\n",
    "print(arr_1d + 2)"
   ]
  },
  {
   "cell_type": "code",
   "execution_count": 41,
   "id": "9497999f-b9d0-4f43-9c6e-cff50a1b3b6d",
   "metadata": {
    "tags": []
   },
   "outputs": [
    {
     "name": "stdout",
     "output_type": "stream",
     "text": [
      "[[1 2 3 4]\n",
      " [5 6 7 8]]\n",
      "[[ 2  4  6  8]\n",
      " [10 12 14 16]]\n"
     ]
    }
   ],
   "source": [
    "#multiply each element by 3\n",
    "\n",
    "print(arr_2d)\n",
    "print(arr_2d * 2)"
   ]
  },
  {
   "cell_type": "code",
   "execution_count": 42,
   "id": "e3f3afc4",
   "metadata": {},
   "outputs": [
    {
     "data": {
      "text/plain": [
       "[1, 2, 3, 4, 1, 2, 3, 4]"
      ]
     },
     "execution_count": 42,
     "metadata": {},
     "output_type": "execute_result"
    }
   ],
   "source": [
    "[1,2,3,4]*2 # it duplicate the list "
   ]
  },
  {
   "cell_type": "code",
   "execution_count": 43,
   "id": "81465273-2af5-4656-9b9c-65a5ac9ca655",
   "metadata": {
    "tags": []
   },
   "outputs": [
    {
     "data": {
      "text/plain": [
       "np.int64(36)"
      ]
     },
     "execution_count": 43,
     "metadata": {},
     "output_type": "execute_result"
    }
   ],
   "source": [
    "#sum all elements in np.array()\n",
    "np.sum(arr_2d)"
   ]
  },
  {
   "cell_type": "code",
   "execution_count": 44,
   "id": "7fbacbef",
   "metadata": {},
   "outputs": [
    {
     "name": "stdout",
     "output_type": "stream",
     "text": [
      "[[1 2 3 4]\n",
      " [5 6 7 8]]\n"
     ]
    }
   ],
   "source": [
    "print(arr_2d)"
   ]
  },
  {
   "cell_type": "code",
   "execution_count": 45,
   "id": "6a8ce06a",
   "metadata": {},
   "outputs": [
    {
     "data": {
      "text/plain": [
       "array([ 6,  8, 10, 12])"
      ]
     },
     "execution_count": 45,
     "metadata": {},
     "output_type": "execute_result"
    }
   ],
   "source": [
    "np.sum(arr_2d, axis=0)"
   ]
  },
  {
   "cell_type": "code",
   "execution_count": 46,
   "id": "533bc0fe",
   "metadata": {},
   "outputs": [
    {
     "data": {
      "text/plain": [
       "array([10, 26])"
      ]
     },
     "execution_count": 46,
     "metadata": {},
     "output_type": "execute_result"
    }
   ],
   "source": [
    "np.sum(arr_2d, axis=1)"
   ]
  },
  {
   "cell_type": "code",
   "execution_count": 47,
   "id": "f1c89aa5",
   "metadata": {},
   "outputs": [
    {
     "data": {
      "text/plain": [
       "array([1, 2, 3, 4, 5, 6, 7, 8])"
      ]
     },
     "execution_count": 47,
     "metadata": {},
     "output_type": "execute_result"
    }
   ],
   "source": [
    "arr_1d"
   ]
  },
  {
   "cell_type": "code",
   "execution_count": 48,
   "id": "a911573b-5c15-4417-b6a8-74346ef81117",
   "metadata": {
    "tags": []
   },
   "outputs": [
    {
     "data": {
      "text/plain": [
       "array([2, 3, 4])"
      ]
     },
     "execution_count": 48,
     "metadata": {},
     "output_type": "execute_result"
    }
   ],
   "source": [
    "#slicing 1D , up to 4 but not including\n",
    "arr_1d[1:4]"
   ]
  },
  {
   "cell_type": "code",
   "execution_count": 49,
   "id": "fc9fcb72",
   "metadata": {},
   "outputs": [
    {
     "data": {
      "text/plain": [
       "array([[1, 2, 3, 4],\n",
       "       [5, 6, 7, 8]])"
      ]
     },
     "execution_count": 49,
     "metadata": {},
     "output_type": "execute_result"
    }
   ],
   "source": [
    "arr_2d"
   ]
  },
  {
   "cell_type": "code",
   "execution_count": 50,
   "id": "d90b3f1c-eaff-46aa-91ca-309edef829fe",
   "metadata": {
    "tags": []
   },
   "outputs": [
    {
     "data": {
      "text/plain": [
       "array([6, 7, 8])"
      ]
     },
     "execution_count": 50,
     "metadata": {},
     "output_type": "execute_result"
    }
   ],
   "source": [
    "#slicing 2D, up to 4 but not including\n",
    "arr_2d[1,1:4]"
   ]
  },
  {
   "cell_type": "code",
   "execution_count": 51,
   "id": "3b42bdfc-47c0-4094-aa7d-fdccc7333cbf",
   "metadata": {
    "tags": []
   },
   "outputs": [
    {
     "data": {
      "text/plain": [
       "array([[False,  True, False,  True],\n",
       "       [False,  True, False,  True]])"
      ]
     },
     "execution_count": 51,
     "metadata": {},
     "output_type": "execute_result"
    }
   ],
   "source": [
    "#boolean indexing, which values match some criteria\n",
    "\n",
    "arr_2d % 2 ==  0"
   ]
  },
  {
   "cell_type": "code",
   "execution_count": 52,
   "id": "84886554-6106-455c-a5ed-8c204a9ac29e",
   "metadata": {
    "tags": []
   },
   "outputs": [
    {
     "data": {
      "text/plain": [
       "array([2, 4, 6, 8])"
      ]
     },
     "execution_count": 52,
     "metadata": {},
     "output_type": "execute_result"
    }
   ],
   "source": [
    "#boolean mask\n",
    "\n",
    "arr_2d[arr_2d % 2 ==  0]"
   ]
  },
  {
   "cell_type": "code",
   "execution_count": 53,
   "id": "02ddac75-3750-4aea-9c67-e8aa420e5819",
   "metadata": {
    "tags": []
   },
   "outputs": [
    {
     "data": {
      "text/plain": [
       "np.float64(4.5)"
      ]
     },
     "execution_count": 53,
     "metadata": {},
     "output_type": "execute_result"
    }
   ],
   "source": [
    "#functions on arrays\n",
    "\n",
    "np.mean(arr_1d)"
   ]
  },
  {
   "cell_type": "code",
   "execution_count": 54,
   "id": "d21a3630-ee18-4d98-8a69-fc9f54a2977a",
   "metadata": {
    "tags": []
   },
   "outputs": [
    {
     "data": {
      "text/plain": [
       "np.float64(2.29128784747792)"
      ]
     },
     "execution_count": 54,
     "metadata": {},
     "output_type": "execute_result"
    }
   ],
   "source": [
    "#functions on arrays\n",
    "\n",
    "np.std(arr_1d)"
   ]
  },
  {
   "cell_type": "code",
   "execution_count": 55,
   "id": "de8ffafe-d060-426b-947c-03d92505b83a",
   "metadata": {
    "tags": []
   },
   "outputs": [
    {
     "data": {
      "text/plain": [
       "array([[0., 0., 0.],\n",
       "       [0., 0., 0.]])"
      ]
     },
     "execution_count": 55,
     "metadata": {},
     "output_type": "execute_result"
    }
   ],
   "source": [
    "#array generation: empty array \n",
    "np.zeros((2,3))"
   ]
  },
  {
   "cell_type": "code",
   "execution_count": 56,
   "id": "af28897f-21a4-445d-80d3-54e3980aec82",
   "metadata": {
    "tags": []
   },
   "outputs": [
    {
     "data": {
      "text/plain": [
       "array([[1., 1., 1.],\n",
       "       [1., 1., 1.]])"
      ]
     },
     "execution_count": 56,
     "metadata": {},
     "output_type": "execute_result"
    }
   ],
   "source": [
    "#array generation: array of ones\n",
    "np.ones((2,3))"
   ]
  },
  {
   "cell_type": "code",
   "execution_count": 57,
   "id": "ea8fb93a-8517-4068-b673-73cbc78bd26c",
   "metadata": {
    "tags": []
   },
   "outputs": [
    {
     "data": {
      "text/plain": [
       "array([[1., 0., 0.],\n",
       "       [0., 1., 0.],\n",
       "       [0., 0., 1.]])"
      ]
     },
     "execution_count": 57,
     "metadata": {},
     "output_type": "execute_result"
    }
   ],
   "source": [
    "#array generation: identity matrix\n",
    "np.eye(3)"
   ]
  },
  {
   "cell_type": "code",
   "execution_count": 58,
   "id": "7de91e5b-d63e-4742-90d1-eec3b337bd8a",
   "metadata": {
    "tags": []
   },
   "outputs": [
    {
     "data": {
      "text/plain": [
       "array([1, 3, 5, 7, 9])"
      ]
     },
     "execution_count": 58,
     "metadata": {},
     "output_type": "execute_result"
    }
   ],
   "source": [
    "#sequence : similar ro range function, start, stop and step value\n",
    "np.arange(1,10,2)"
   ]
  },
  {
   "cell_type": "code",
   "execution_count": 59,
   "id": "d971d3e1",
   "metadata": {},
   "outputs": [
    {
     "data": {
      "text/plain": [
       "array([1, 2, 3, 4, 5, 6, 7, 8, 9])"
      ]
     },
     "execution_count": 59,
     "metadata": {},
     "output_type": "execute_result"
    }
   ],
   "source": [
    "#sequence : similar ro range function, start, stop and step value (not include the stop value)\n",
    "np.arange(1,10)"
   ]
  },
  {
   "cell_type": "code",
   "execution_count": 60,
   "id": "4bc3791e-38bd-4e96-b734-6f2e2590e659",
   "metadata": {
    "tags": []
   },
   "outputs": [
    {
     "data": {
      "text/plain": [
       "array([0. , 0.1, 0.2, 0.3, 0.4, 0.5, 0.6, 0.7, 0.8, 0.9, 1. ])"
      ]
     },
     "execution_count": 60,
     "metadata": {},
     "output_type": "execute_result"
    }
   ],
   "source": [
    "#grid of values: start, stop and how many evenly spaced sample you want, calculated over the interval [start, stop] \n",
    "np.linspace(0, 1, 11)"
   ]
  },
  {
   "cell_type": "code",
   "execution_count": 61,
   "id": "b26519f7-4a3a-4566-acba-246ad14d16a6",
   "metadata": {
    "tags": []
   },
   "outputs": [
    {
     "data": {
      "text/plain": [
       "array([[0. , 0.4],\n",
       "       [0.8, 1.2],\n",
       "       [1.6, 2. ]])"
      ]
     },
     "execution_count": 61,
     "metadata": {},
     "output_type": "execute_result"
    }
   ],
   "source": [
    "#combine functions: grid of values -> reshape\n",
    "np.linspace(0, 2, 6).reshape(3,2)"
   ]
  },
  {
   "cell_type": "code",
   "execution_count": 62,
   "id": "3cd96b1f",
   "metadata": {},
   "outputs": [],
   "source": [
    "#combine functions: grid of values -> reshape\n",
    "# np.linspace(0, 2, 6).reshape(2,2)"
   ]
  },
  {
   "cell_type": "code",
   "execution_count": 63,
   "id": "40277fc0-9426-4d1f-830c-9e72fc1ba4b3",
   "metadata": {
    "tags": []
   },
   "outputs": [
    {
     "name": "stdout",
     "output_type": "stream",
     "text": [
      "A · B = B · A\n",
      "A · B = 56\n"
     ]
    }
   ],
   "source": [
    "# Define two vectors A and B\n",
    "A = np.array([2, 3, 4])\n",
    "B = np.array([5, 6, 7])\n",
    "\n",
    "# Calculate the dot product A · B\n",
    "dot_product_AB = np.dot(A, B)\n",
    "\n",
    "# Calculate the dot product B · A\n",
    "dot_product_BA = np.dot(B, A)\n",
    "\n",
    "# Check if the dot products are equal (commutative property)\n",
    "if dot_product_AB == dot_product_BA:\n",
    "    print('A · B = B · A')\n",
    "    print(f'A · B = {dot_product_AB}')\n",
    "else:\n",
    "    print('A · B is not equal to B · A')"
   ]
  },
  {
   "cell_type": "markdown",
   "id": "734bcfa4-d08e-4b24-97ec-eae813055c46",
   "metadata": {},
   "source": [
    "## Pandas"
   ]
  },
  {
   "cell_type": "code",
   "execution_count": 64,
   "id": "215192a1-0c33-40ce-a4da-6c8926992749",
   "metadata": {
    "tags": []
   },
   "outputs": [],
   "source": [
    "import pandas as pd # genarally imported as pd"
   ]
  },
  {
   "cell_type": "code",
   "execution_count": 65,
   "id": "b2609f7f-1e66-4d8e-9f42-ac4f65cb77f1",
   "metadata": {
    "tags": []
   },
   "outputs": [
    {
     "data": {
      "text/html": [
       "<div>\n",
       "<style scoped>\n",
       "    .dataframe tbody tr th:only-of-type {\n",
       "        vertical-align: middle;\n",
       "    }\n",
       "\n",
       "    .dataframe tbody tr th {\n",
       "        vertical-align: top;\n",
       "    }\n",
       "\n",
       "    .dataframe thead th {\n",
       "        text-align: right;\n",
       "    }\n",
       "</style>\n",
       "<table border=\"1\" class=\"dataframe\">\n",
       "  <thead>\n",
       "    <tr style=\"text-align: right;\">\n",
       "      <th></th>\n",
       "      <th>Name</th>\n",
       "      <th>Age</th>\n",
       "    </tr>\n",
       "  </thead>\n",
       "  <tbody>\n",
       "    <tr>\n",
       "      <th>0</th>\n",
       "      <td>Alice</td>\n",
       "      <td>25</td>\n",
       "    </tr>\n",
       "    <tr>\n",
       "      <th>1</th>\n",
       "      <td>Bob</td>\n",
       "      <td>30</td>\n",
       "    </tr>\n",
       "    <tr>\n",
       "      <th>2</th>\n",
       "      <td>Charlie</td>\n",
       "      <td>35</td>\n",
       "    </tr>\n",
       "  </tbody>\n",
       "</table>\n",
       "</div>"
      ],
      "text/plain": [
       "      Name  Age\n",
       "0    Alice   25\n",
       "1      Bob   30\n",
       "2  Charlie   35"
      ]
     },
     "execution_count": 65,
     "metadata": {},
     "output_type": "execute_result"
    }
   ],
   "source": [
    "#create dataframe\n",
    "\n",
    "data = {'Name': ['Alice', 'Bob', 'Charlie'],\n",
    "        'Age': [25, 30, 35]}\n",
    "df = pd.DataFrame(data)\n",
    "\n",
    "# Create a DataFrame from a list of dictionaries\n",
    "data_list = [{'Name': 'Alice', 'Age': 25},\n",
    "             {'Name': 'Bob', 'Age': 30},\n",
    "             {'Name': 'Charlie', 'Age': 35}]\n",
    "df = pd.DataFrame(data_list)\n",
    "df"
   ]
  },
  {
   "cell_type": "code",
   "execution_count": 66,
   "id": "ec55e7cb-cbce-41e1-b1f9-70fc4799d1d8",
   "metadata": {
    "tags": []
   },
   "outputs": [
    {
     "data": {
      "text/html": [
       "<div>\n",
       "<style scoped>\n",
       "    .dataframe tbody tr th:only-of-type {\n",
       "        vertical-align: middle;\n",
       "    }\n",
       "\n",
       "    .dataframe tbody tr th {\n",
       "        vertical-align: top;\n",
       "    }\n",
       "\n",
       "    .dataframe thead th {\n",
       "        text-align: right;\n",
       "    }\n",
       "</style>\n",
       "<table border=\"1\" class=\"dataframe\">\n",
       "  <thead>\n",
       "    <tr style=\"text-align: right;\">\n",
       "      <th></th>\n",
       "      <th>Subcellular location ID</th>\n",
       "      <th>Name</th>\n",
       "      <th>Category</th>\n",
       "      <th>Gene Ontologies</th>\n",
       "      <th>Is a</th>\n",
       "    </tr>\n",
       "  </thead>\n",
       "  <tbody>\n",
       "    <tr>\n",
       "      <th>0</th>\n",
       "      <td>SL-0191</td>\n",
       "      <td>Nucleus</td>\n",
       "      <td>Cellular component</td>\n",
       "      <td>GO:0005634:nucleus</td>\n",
       "      <td>NaN</td>\n",
       "    </tr>\n",
       "    <tr>\n",
       "      <th>1</th>\n",
       "      <td>SL-0198</td>\n",
       "      <td>Perinuclear region</td>\n",
       "      <td>Cellular component</td>\n",
       "      <td>GO:0048471:perinuclear region of cytoplasm</td>\n",
       "      <td>NaN</td>\n",
       "    </tr>\n",
       "    <tr>\n",
       "      <th>2</th>\n",
       "      <td>SL-0382</td>\n",
       "      <td>Host perinuclear region</td>\n",
       "      <td>Cellular component</td>\n",
       "      <td>GO:0044220:host cell perinuclear region of cyt...</td>\n",
       "      <td>NaN</td>\n",
       "    </tr>\n",
       "    <tr>\n",
       "      <th>3</th>\n",
       "      <td>SL-0178</td>\n",
       "      <td>Nucleus envelope</td>\n",
       "      <td>Cellular component</td>\n",
       "      <td>GO:0005635:nuclear envelope</td>\n",
       "      <td>NaN</td>\n",
       "    </tr>\n",
       "    <tr>\n",
       "      <th>4</th>\n",
       "      <td>SL-0180</td>\n",
       "      <td>Nucleus lamina</td>\n",
       "      <td>Cellular component</td>\n",
       "      <td>GO:0005652:nuclear lamina</td>\n",
       "      <td>NaN</td>\n",
       "    </tr>\n",
       "    <tr>\n",
       "      <th>5</th>\n",
       "      <td>SL-0181</td>\n",
       "      <td>Nucleus matrix</td>\n",
       "      <td>Cellular component</td>\n",
       "      <td>GO:0016363:nuclear matrix</td>\n",
       "      <td>NaN</td>\n",
       "    </tr>\n",
       "    <tr>\n",
       "      <th>6</th>\n",
       "      <td>SL-0182</td>\n",
       "      <td>Nucleus membrane</td>\n",
       "      <td>Cellular component</td>\n",
       "      <td>GO:0031965:nuclear membrane</td>\n",
       "      <td>SL-0162; Membrane; LOCATION</td>\n",
       "    </tr>\n",
       "    <tr>\n",
       "      <th>7</th>\n",
       "      <td>SL-0186</td>\n",
       "      <td>Nucleus speckle</td>\n",
       "      <td>Cellular component</td>\n",
       "      <td>GO:0016607:nuclear speck</td>\n",
       "      <td>SL-0494; Nuclear body; LOCATION</td>\n",
       "    </tr>\n",
       "    <tr>\n",
       "      <th>8</th>\n",
       "      <td>SL-0414</td>\n",
       "      <td>Host nucleus</td>\n",
       "      <td>Cellular component</td>\n",
       "      <td>GO:0042025:host cell nucleus</td>\n",
       "      <td>NaN</td>\n",
       "    </tr>\n",
       "    <tr>\n",
       "      <th>9</th>\n",
       "      <td>SL-0189</td>\n",
       "      <td>Nucleomorph</td>\n",
       "      <td>Cellular component</td>\n",
       "      <td>GO:0033009:nucleomorph</td>\n",
       "      <td>NaN</td>\n",
       "    </tr>\n",
       "    <tr>\n",
       "      <th>10</th>\n",
       "      <td>SL-0419</td>\n",
       "      <td>Host nucleus inner membrane</td>\n",
       "      <td>Cellular component</td>\n",
       "      <td>GO:0044201:host cell nuclear inner membrane</td>\n",
       "      <td>SL-0418; Host nucleus membrane; LOCATION</td>\n",
       "    </tr>\n",
       "    <tr>\n",
       "      <th>11</th>\n",
       "      <td>SL-0229</td>\n",
       "      <td>Protoplasm</td>\n",
       "      <td>Cellular component</td>\n",
       "      <td>GO:0005622:intracellular anatomical structure</td>\n",
       "      <td>NaN</td>\n",
       "    </tr>\n",
       "    <tr>\n",
       "      <th>12</th>\n",
       "      <td>SL-0381</td>\n",
       "      <td>Host cytoplasm</td>\n",
       "      <td>Cellular component</td>\n",
       "      <td>GO:0030430:host cell cytoplasm</td>\n",
       "      <td>NaN</td>\n",
       "    </tr>\n",
       "    <tr>\n",
       "      <th>13</th>\n",
       "      <td>SL-0187</td>\n",
       "      <td>Nucleoid</td>\n",
       "      <td>Cellular component</td>\n",
       "      <td>GO:0009295:nucleoid</td>\n",
       "      <td>NaN</td>\n",
       "    </tr>\n",
       "    <tr>\n",
       "      <th>14</th>\n",
       "      <td>SL-0139</td>\n",
       "      <td>Chloroplast nucleoid</td>\n",
       "      <td>Cellular component</td>\n",
       "      <td>GO:0042644:chloroplast nucleoid</td>\n",
       "      <td>NaN</td>\n",
       "    </tr>\n",
       "    <tr>\n",
       "      <th>15</th>\n",
       "      <td>SL-0140</td>\n",
       "      <td>Plastid nucleoid</td>\n",
       "      <td>Cellular component</td>\n",
       "      <td>GO:0042646:plastid nucleoid</td>\n",
       "      <td>NaN</td>\n",
       "    </tr>\n",
       "    <tr>\n",
       "      <th>16</th>\n",
       "      <td>SL-0269</td>\n",
       "      <td>Mitochondrion nucleoid</td>\n",
       "      <td>Cellular component</td>\n",
       "      <td>GO:0042645:mitochondrial nucleoid</td>\n",
       "      <td>NaN</td>\n",
       "    </tr>\n",
       "    <tr>\n",
       "      <th>17</th>\n",
       "      <td>SL-0179</td>\n",
       "      <td>Nucleus inner membrane</td>\n",
       "      <td>Cellular component</td>\n",
       "      <td>GO:0005637:nuclear inner membrane</td>\n",
       "      <td>SL-0182; Nucleus membrane; LOCATION</td>\n",
       "    </tr>\n",
       "    <tr>\n",
       "      <th>18</th>\n",
       "      <td>SL-0183</td>\n",
       "      <td>Nucleus outer membrane</td>\n",
       "      <td>Cellular component</td>\n",
       "      <td>GO:0005640:nuclear outer membrane</td>\n",
       "      <td>SL-0182; Nucleus membrane; LOCATION</td>\n",
       "    </tr>\n",
       "    <tr>\n",
       "      <th>19</th>\n",
       "      <td>SL-0184</td>\n",
       "      <td>Nucleus intermembrane space</td>\n",
       "      <td>Cellular component</td>\n",
       "      <td>GO:0005641:nuclear envelope lumen</td>\n",
       "      <td>NaN</td>\n",
       "    </tr>\n",
       "    <tr>\n",
       "      <th>20</th>\n",
       "      <td>SL-0415</td>\n",
       "      <td>Host nucleus envelope</td>\n",
       "      <td>Cellular component</td>\n",
       "      <td>GO:0044199:host cell nuclear envelope</td>\n",
       "      <td>NaN</td>\n",
       "    </tr>\n",
       "    <tr>\n",
       "      <th>21</th>\n",
       "      <td>SL-0416</td>\n",
       "      <td>Host nucleus lamina</td>\n",
       "      <td>Cellular component</td>\n",
       "      <td>GO:0044203:host cell nuclear lamina</td>\n",
       "      <td>NaN</td>\n",
       "    </tr>\n",
       "    <tr>\n",
       "      <th>22</th>\n",
       "      <td>SL-0417</td>\n",
       "      <td>Host nucleus matrix</td>\n",
       "      <td>Cellular component</td>\n",
       "      <td>GO:0044204:host cell nuclear matrix</td>\n",
       "      <td>NaN</td>\n",
       "    </tr>\n",
       "    <tr>\n",
       "      <th>23</th>\n",
       "      <td>SL-0418</td>\n",
       "      <td>Host nucleus membrane</td>\n",
       "      <td>Cellular component</td>\n",
       "      <td>GO:0044200:host cell nuclear membrane</td>\n",
       "      <td>SL-0380; Host membrane; LOCATION</td>\n",
       "    </tr>\n",
       "    <tr>\n",
       "      <th>24</th>\n",
       "      <td>SL-0190</td>\n",
       "      <td>Nucleoplasm</td>\n",
       "      <td>Cellular component</td>\n",
       "      <td>GO:0005654:nucleoplasm</td>\n",
       "      <td>NaN</td>\n",
       "    </tr>\n",
       "    <tr>\n",
       "      <th>25</th>\n",
       "      <td>SL-0486</td>\n",
       "      <td>Target cell cytoplasm</td>\n",
       "      <td>Cellular component</td>\n",
       "      <td>NaN</td>\n",
       "      <td>SL-0487; Target cell; LOCATION</td>\n",
       "    </tr>\n",
       "    <tr>\n",
       "      <th>26</th>\n",
       "      <td>SL-0413</td>\n",
       "      <td>Host nucleoplasm</td>\n",
       "      <td>Cellular component</td>\n",
       "      <td>GO:0044095:host cell nucleoplasm</td>\n",
       "      <td>NaN</td>\n",
       "    </tr>\n",
       "    <tr>\n",
       "      <th>27</th>\n",
       "      <td>SL-0446</td>\n",
       "      <td>Host nucleus outer membrane</td>\n",
       "      <td>Cellular component</td>\n",
       "      <td>GO:0044202:host cell nuclear outer membrane</td>\n",
       "      <td>SL-0418; Host nucleus membrane; LOCATION</td>\n",
       "    </tr>\n",
       "    <tr>\n",
       "      <th>28</th>\n",
       "      <td>SL-0199</td>\n",
       "      <td>Perinuclear theca</td>\n",
       "      <td>Cellular component</td>\n",
       "      <td>GO:0033011:perinuclear theca</td>\n",
       "      <td>NaN</td>\n",
       "    </tr>\n",
       "    <tr>\n",
       "      <th>29</th>\n",
       "      <td>SL-0412</td>\n",
       "      <td>Host nucleolus</td>\n",
       "      <td>Cellular component</td>\n",
       "      <td>GO:0044196:host cell nucleolus</td>\n",
       "      <td>NaN</td>\n",
       "    </tr>\n",
       "    <tr>\n",
       "      <th>30</th>\n",
       "      <td>SL-0553</td>\n",
       "      <td>U-body</td>\n",
       "      <td>Cellular component</td>\n",
       "      <td>NaN</td>\n",
       "      <td>SL-0495; Cytoplasmic ribonucleoprotein granule...</td>\n",
       "    </tr>\n",
       "    <tr>\n",
       "      <th>31</th>\n",
       "      <td>SL-0521</td>\n",
       "      <td>Golgi outpost</td>\n",
       "      <td>Cellular component</td>\n",
       "      <td>NaN</td>\n",
       "      <td>SL-0132; Golgi apparatus; LOCATION</td>\n",
       "    </tr>\n",
       "    <tr>\n",
       "      <th>32</th>\n",
       "      <td>SL-0086</td>\n",
       "      <td>Cytoplasm</td>\n",
       "      <td>Cellular component</td>\n",
       "      <td>GO:0005737:cytoplasm</td>\n",
       "      <td>NaN</td>\n",
       "    </tr>\n",
       "    <tr>\n",
       "      <th>33</th>\n",
       "      <td>SL-0007</td>\n",
       "      <td>Acrosome</td>\n",
       "      <td>Cellular component</td>\n",
       "      <td>GO:0001669:acrosomal vesicle</td>\n",
       "      <td>SL-0244; Secretory vesicle; LOCATION</td>\n",
       "    </tr>\n",
       "    <tr>\n",
       "      <th>34</th>\n",
       "      <td>SL-0031</td>\n",
       "      <td>Cajal body</td>\n",
       "      <td>Cellular component</td>\n",
       "      <td>GO:0015030:Cajal body</td>\n",
       "      <td>SL-0494; Nuclear body; LOCATION</td>\n",
       "    </tr>\n",
       "    <tr>\n",
       "      <th>35</th>\n",
       "      <td>SL-0465</td>\n",
       "      <td>PML body</td>\n",
       "      <td>Cellular component</td>\n",
       "      <td>GO:0016605:PML body</td>\n",
       "      <td>SL-0494; Nuclear body; LOCATION</td>\n",
       "    </tr>\n",
       "    <tr>\n",
       "      <th>36</th>\n",
       "      <td>SL-0148</td>\n",
       "      <td>Invadopodium</td>\n",
       "      <td>Cellular component</td>\n",
       "      <td>NaN</td>\n",
       "      <td>SL-0038; Cell junction; LOCATION, SL-0280; Cel...</td>\n",
       "    </tr>\n",
       "    <tr>\n",
       "      <th>37</th>\n",
       "      <td>SL-0488</td>\n",
       "      <td>Inflammasome</td>\n",
       "      <td>Cellular component</td>\n",
       "      <td>GO:0061702:canonical inflammasome complex</td>\n",
       "      <td>NaN</td>\n",
       "    </tr>\n",
       "  </tbody>\n",
       "</table>\n",
       "</div>"
      ],
      "text/plain": [
       "   Subcellular location ID                         Name            Category  \\\n",
       "0                  SL-0191                      Nucleus  Cellular component   \n",
       "1                  SL-0198           Perinuclear region  Cellular component   \n",
       "2                  SL-0382      Host perinuclear region  Cellular component   \n",
       "3                  SL-0178             Nucleus envelope  Cellular component   \n",
       "4                  SL-0180               Nucleus lamina  Cellular component   \n",
       "5                  SL-0181               Nucleus matrix  Cellular component   \n",
       "6                  SL-0182             Nucleus membrane  Cellular component   \n",
       "7                  SL-0186              Nucleus speckle  Cellular component   \n",
       "8                  SL-0414                 Host nucleus  Cellular component   \n",
       "9                  SL-0189                  Nucleomorph  Cellular component   \n",
       "10                 SL-0419  Host nucleus inner membrane  Cellular component   \n",
       "11                 SL-0229                   Protoplasm  Cellular component   \n",
       "12                 SL-0381               Host cytoplasm  Cellular component   \n",
       "13                 SL-0187                     Nucleoid  Cellular component   \n",
       "14                 SL-0139         Chloroplast nucleoid  Cellular component   \n",
       "15                 SL-0140             Plastid nucleoid  Cellular component   \n",
       "16                 SL-0269       Mitochondrion nucleoid  Cellular component   \n",
       "17                 SL-0179       Nucleus inner membrane  Cellular component   \n",
       "18                 SL-0183       Nucleus outer membrane  Cellular component   \n",
       "19                 SL-0184  Nucleus intermembrane space  Cellular component   \n",
       "20                 SL-0415        Host nucleus envelope  Cellular component   \n",
       "21                 SL-0416          Host nucleus lamina  Cellular component   \n",
       "22                 SL-0417          Host nucleus matrix  Cellular component   \n",
       "23                 SL-0418        Host nucleus membrane  Cellular component   \n",
       "24                 SL-0190                  Nucleoplasm  Cellular component   \n",
       "25                 SL-0486        Target cell cytoplasm  Cellular component   \n",
       "26                 SL-0413             Host nucleoplasm  Cellular component   \n",
       "27                 SL-0446  Host nucleus outer membrane  Cellular component   \n",
       "28                 SL-0199            Perinuclear theca  Cellular component   \n",
       "29                 SL-0412               Host nucleolus  Cellular component   \n",
       "30                 SL-0553                       U-body  Cellular component   \n",
       "31                 SL-0521                Golgi outpost  Cellular component   \n",
       "32                 SL-0086                    Cytoplasm  Cellular component   \n",
       "33                 SL-0007                     Acrosome  Cellular component   \n",
       "34                 SL-0031                   Cajal body  Cellular component   \n",
       "35                 SL-0465                     PML body  Cellular component   \n",
       "36                 SL-0148                 Invadopodium  Cellular component   \n",
       "37                 SL-0488                 Inflammasome  Cellular component   \n",
       "\n",
       "                                      Gene Ontologies  \\\n",
       "0                                  GO:0005634:nucleus   \n",
       "1          GO:0048471:perinuclear region of cytoplasm   \n",
       "2   GO:0044220:host cell perinuclear region of cyt...   \n",
       "3                         GO:0005635:nuclear envelope   \n",
       "4                           GO:0005652:nuclear lamina   \n",
       "5                           GO:0016363:nuclear matrix   \n",
       "6                         GO:0031965:nuclear membrane   \n",
       "7                            GO:0016607:nuclear speck   \n",
       "8                        GO:0042025:host cell nucleus   \n",
       "9                              GO:0033009:nucleomorph   \n",
       "10        GO:0044201:host cell nuclear inner membrane   \n",
       "11      GO:0005622:intracellular anatomical structure   \n",
       "12                     GO:0030430:host cell cytoplasm   \n",
       "13                                GO:0009295:nucleoid   \n",
       "14                    GO:0042644:chloroplast nucleoid   \n",
       "15                        GO:0042646:plastid nucleoid   \n",
       "16                  GO:0042645:mitochondrial nucleoid   \n",
       "17                  GO:0005637:nuclear inner membrane   \n",
       "18                  GO:0005640:nuclear outer membrane   \n",
       "19                  GO:0005641:nuclear envelope lumen   \n",
       "20              GO:0044199:host cell nuclear envelope   \n",
       "21                GO:0044203:host cell nuclear lamina   \n",
       "22                GO:0044204:host cell nuclear matrix   \n",
       "23              GO:0044200:host cell nuclear membrane   \n",
       "24                             GO:0005654:nucleoplasm   \n",
       "25                                                NaN   \n",
       "26                   GO:0044095:host cell nucleoplasm   \n",
       "27        GO:0044202:host cell nuclear outer membrane   \n",
       "28                       GO:0033011:perinuclear theca   \n",
       "29                     GO:0044196:host cell nucleolus   \n",
       "30                                                NaN   \n",
       "31                                                NaN   \n",
       "32                               GO:0005737:cytoplasm   \n",
       "33                       GO:0001669:acrosomal vesicle   \n",
       "34                              GO:0015030:Cajal body   \n",
       "35                                GO:0016605:PML body   \n",
       "36                                                NaN   \n",
       "37          GO:0061702:canonical inflammasome complex   \n",
       "\n",
       "                                                 Is a  \n",
       "0                                                 NaN  \n",
       "1                                                 NaN  \n",
       "2                                                 NaN  \n",
       "3                                                 NaN  \n",
       "4                                                 NaN  \n",
       "5                                                 NaN  \n",
       "6                         SL-0162; Membrane; LOCATION  \n",
       "7                     SL-0494; Nuclear body; LOCATION  \n",
       "8                                                 NaN  \n",
       "9                                                 NaN  \n",
       "10           SL-0418; Host nucleus membrane; LOCATION  \n",
       "11                                                NaN  \n",
       "12                                                NaN  \n",
       "13                                                NaN  \n",
       "14                                                NaN  \n",
       "15                                                NaN  \n",
       "16                                                NaN  \n",
       "17                SL-0182; Nucleus membrane; LOCATION  \n",
       "18                SL-0182; Nucleus membrane; LOCATION  \n",
       "19                                                NaN  \n",
       "20                                                NaN  \n",
       "21                                                NaN  \n",
       "22                                                NaN  \n",
       "23                   SL-0380; Host membrane; LOCATION  \n",
       "24                                                NaN  \n",
       "25                     SL-0487; Target cell; LOCATION  \n",
       "26                                                NaN  \n",
       "27           SL-0418; Host nucleus membrane; LOCATION  \n",
       "28                                                NaN  \n",
       "29                                                NaN  \n",
       "30  SL-0495; Cytoplasmic ribonucleoprotein granule...  \n",
       "31                 SL-0132; Golgi apparatus; LOCATION  \n",
       "32                                                NaN  \n",
       "33               SL-0244; Secretory vesicle; LOCATION  \n",
       "34                    SL-0494; Nuclear body; LOCATION  \n",
       "35                    SL-0494; Nuclear body; LOCATION  \n",
       "36  SL-0038; Cell junction; LOCATION, SL-0280; Cel...  \n",
       "37                                                NaN  "
      ]
     },
     "execution_count": 66,
     "metadata": {},
     "output_type": "execute_result"
    }
   ],
   "source": [
    "#https://www.uniprot.org/locations?query=nucleus\n",
    "\n",
    "nucleus_loci = pd.read_csv('locations_nucleus.tsv', sep='\\t')\n",
    "nucleus_loci"
   ]
  },
  {
   "cell_type": "code",
   "execution_count": 67,
   "id": "c83a104a-8745-49f1-a2e7-b69af5602b19",
   "metadata": {
    "tags": []
   },
   "outputs": [
    {
     "data": {
      "text/html": [
       "<div>\n",
       "<style scoped>\n",
       "    .dataframe tbody tr th:only-of-type {\n",
       "        vertical-align: middle;\n",
       "    }\n",
       "\n",
       "    .dataframe tbody tr th {\n",
       "        vertical-align: top;\n",
       "    }\n",
       "\n",
       "    .dataframe thead th {\n",
       "        text-align: right;\n",
       "    }\n",
       "</style>\n",
       "<table border=\"1\" class=\"dataframe\">\n",
       "  <thead>\n",
       "    <tr style=\"text-align: right;\">\n",
       "      <th></th>\n",
       "      <th>Subcellular location ID</th>\n",
       "      <th>Name</th>\n",
       "      <th>Category</th>\n",
       "      <th>Gene Ontologies</th>\n",
       "      <th>Is a</th>\n",
       "    </tr>\n",
       "  </thead>\n",
       "  <tbody>\n",
       "    <tr>\n",
       "      <th>0</th>\n",
       "      <td>SL-0191</td>\n",
       "      <td>Nucleus</td>\n",
       "      <td>Cellular component</td>\n",
       "      <td>GO:0005634:nucleus</td>\n",
       "      <td>NaN</td>\n",
       "    </tr>\n",
       "    <tr>\n",
       "      <th>1</th>\n",
       "      <td>SL-0198</td>\n",
       "      <td>Perinuclear region</td>\n",
       "      <td>Cellular component</td>\n",
       "      <td>GO:0048471:perinuclear region of cytoplasm</td>\n",
       "      <td>NaN</td>\n",
       "    </tr>\n",
       "    <tr>\n",
       "      <th>2</th>\n",
       "      <td>SL-0382</td>\n",
       "      <td>Host perinuclear region</td>\n",
       "      <td>Cellular component</td>\n",
       "      <td>GO:0044220:host cell perinuclear region of cyt...</td>\n",
       "      <td>NaN</td>\n",
       "    </tr>\n",
       "    <tr>\n",
       "      <th>3</th>\n",
       "      <td>SL-0178</td>\n",
       "      <td>Nucleus envelope</td>\n",
       "      <td>Cellular component</td>\n",
       "      <td>GO:0005635:nuclear envelope</td>\n",
       "      <td>NaN</td>\n",
       "    </tr>\n",
       "    <tr>\n",
       "      <th>4</th>\n",
       "      <td>SL-0180</td>\n",
       "      <td>Nucleus lamina</td>\n",
       "      <td>Cellular component</td>\n",
       "      <td>GO:0005652:nuclear lamina</td>\n",
       "      <td>NaN</td>\n",
       "    </tr>\n",
       "  </tbody>\n",
       "</table>\n",
       "</div>"
      ],
      "text/plain": [
       "  Subcellular location ID                     Name            Category  \\\n",
       "0                 SL-0191                  Nucleus  Cellular component   \n",
       "1                 SL-0198       Perinuclear region  Cellular component   \n",
       "2                 SL-0382  Host perinuclear region  Cellular component   \n",
       "3                 SL-0178         Nucleus envelope  Cellular component   \n",
       "4                 SL-0180           Nucleus lamina  Cellular component   \n",
       "\n",
       "                                     Gene Ontologies Is a  \n",
       "0                                 GO:0005634:nucleus  NaN  \n",
       "1         GO:0048471:perinuclear region of cytoplasm  NaN  \n",
       "2  GO:0044220:host cell perinuclear region of cyt...  NaN  \n",
       "3                        GO:0005635:nuclear envelope  NaN  \n",
       "4                          GO:0005652:nuclear lamina  NaN  "
      ]
     },
     "execution_count": 67,
     "metadata": {},
     "output_type": "execute_result"
    }
   ],
   "source": [
    "# function to see the first rows, here first 5 rows\n",
    "nucleus_loci.head(n=5)"
   ]
  },
  {
   "cell_type": "code",
   "execution_count": 68,
   "id": "6449f577-2eaa-4abe-983b-9c6999637a54",
   "metadata": {
    "tags": []
   },
   "outputs": [
    {
     "data": {
      "text/html": [
       "<div>\n",
       "<style scoped>\n",
       "    .dataframe tbody tr th:only-of-type {\n",
       "        vertical-align: middle;\n",
       "    }\n",
       "\n",
       "    .dataframe tbody tr th {\n",
       "        vertical-align: top;\n",
       "    }\n",
       "\n",
       "    .dataframe thead th {\n",
       "        text-align: right;\n",
       "    }\n",
       "</style>\n",
       "<table border=\"1\" class=\"dataframe\">\n",
       "  <thead>\n",
       "    <tr style=\"text-align: right;\">\n",
       "      <th></th>\n",
       "      <th>Name</th>\n",
       "      <th>Category</th>\n",
       "    </tr>\n",
       "  </thead>\n",
       "  <tbody>\n",
       "    <tr>\n",
       "      <th>0</th>\n",
       "      <td>Nucleus</td>\n",
       "      <td>Cellular component</td>\n",
       "    </tr>\n",
       "    <tr>\n",
       "      <th>1</th>\n",
       "      <td>Perinuclear region</td>\n",
       "      <td>Cellular component</td>\n",
       "    </tr>\n",
       "    <tr>\n",
       "      <th>2</th>\n",
       "      <td>Host perinuclear region</td>\n",
       "      <td>Cellular component</td>\n",
       "    </tr>\n",
       "    <tr>\n",
       "      <th>3</th>\n",
       "      <td>Nucleus envelope</td>\n",
       "      <td>Cellular component</td>\n",
       "    </tr>\n",
       "    <tr>\n",
       "      <th>4</th>\n",
       "      <td>Nucleus lamina</td>\n",
       "      <td>Cellular component</td>\n",
       "    </tr>\n",
       "  </tbody>\n",
       "</table>\n",
       "</div>"
      ],
      "text/plain": [
       "                      Name            Category\n",
       "0                  Nucleus  Cellular component\n",
       "1       Perinuclear region  Cellular component\n",
       "2  Host perinuclear region  Cellular component\n",
       "3         Nucleus envelope  Cellular component\n",
       "4           Nucleus lamina  Cellular component"
      ]
     },
     "execution_count": 68,
     "metadata": {},
     "output_type": "execute_result"
    }
   ],
   "source": [
    "#subset columns , two square brackets\n",
    "nucleus_loci[['Name', 'Category']].head()"
   ]
  },
  {
   "cell_type": "code",
   "execution_count": 69,
   "id": "be55b444-4306-42dc-b602-9c4dfc993274",
   "metadata": {
    "tags": []
   },
   "outputs": [
    {
     "data": {
      "text/html": [
       "<div>\n",
       "<style scoped>\n",
       "    .dataframe tbody tr th:only-of-type {\n",
       "        vertical-align: middle;\n",
       "    }\n",
       "\n",
       "    .dataframe tbody tr th {\n",
       "        vertical-align: top;\n",
       "    }\n",
       "\n",
       "    .dataframe thead th {\n",
       "        text-align: right;\n",
       "    }\n",
       "</style>\n",
       "<table border=\"1\" class=\"dataframe\">\n",
       "  <thead>\n",
       "    <tr style=\"text-align: right;\">\n",
       "      <th></th>\n",
       "      <th>Subcellular location ID</th>\n",
       "      <th>Name</th>\n",
       "      <th>Category</th>\n",
       "      <th>Gene Ontologies</th>\n",
       "      <th>Is a</th>\n",
       "    </tr>\n",
       "  </thead>\n",
       "  <tbody>\n",
       "    <tr>\n",
       "      <th>1</th>\n",
       "      <td>SL-0198</td>\n",
       "      <td>Perinuclear region</td>\n",
       "      <td>Cellular component</td>\n",
       "      <td>GO:0048471:perinuclear region of cytoplasm</td>\n",
       "      <td>NaN</td>\n",
       "    </tr>\n",
       "    <tr>\n",
       "      <th>2</th>\n",
       "      <td>SL-0382</td>\n",
       "      <td>Host perinuclear region</td>\n",
       "      <td>Cellular component</td>\n",
       "      <td>GO:0044220:host cell perinuclear region of cyt...</td>\n",
       "      <td>NaN</td>\n",
       "    </tr>\n",
       "    <tr>\n",
       "      <th>3</th>\n",
       "      <td>SL-0178</td>\n",
       "      <td>Nucleus envelope</td>\n",
       "      <td>Cellular component</td>\n",
       "      <td>GO:0005635:nuclear envelope</td>\n",
       "      <td>NaN</td>\n",
       "    </tr>\n",
       "  </tbody>\n",
       "</table>\n",
       "</div>"
      ],
      "text/plain": [
       "  Subcellular location ID                     Name            Category  \\\n",
       "1                 SL-0198       Perinuclear region  Cellular component   \n",
       "2                 SL-0382  Host perinuclear region  Cellular component   \n",
       "3                 SL-0178         Nucleus envelope  Cellular component   \n",
       "\n",
       "                                     Gene Ontologies Is a  \n",
       "1         GO:0048471:perinuclear region of cytoplasm  NaN  \n",
       "2  GO:0044220:host cell perinuclear region of cyt...  NaN  \n",
       "3                        GO:0005635:nuclear envelope  NaN  "
      ]
     },
     "execution_count": 69,
     "metadata": {},
     "output_type": "execute_result"
    }
   ],
   "source": [
    "#subset rows: iloc method\n",
    "nucleus_loci.iloc[1:4,:]"
   ]
  },
  {
   "cell_type": "code",
   "execution_count": 70,
   "id": "c3a9f5dc-5a4f-47a8-8d9b-99a882d5145b",
   "metadata": {
    "tags": []
   },
   "outputs": [
    {
     "name": "stderr",
     "output_type": "stream",
     "text": [
      "/var/folders/yj/7t8kdk6d4ks4rj285562h1yh0000gn/T/ipykernel_19807/3709207053.py:5: SettingWithCopyWarning: \n",
      "A value is trying to be set on a copy of a slice from a DataFrame\n",
      "\n",
      "See the caveats in the documentation: https://pandas.pydata.org/pandas-docs/stable/user_guide/indexing.html#returning-a-view-versus-a-copy\n",
      "  nucleus_loci.dropna(inplace=True)\n"
     ]
    }
   ],
   "source": [
    "#drop na\n",
    "nucleus_loci = nucleus_loci.dropna()\n",
    "\n",
    "#if inplace:\n",
    "nucleus_loci.dropna(inplace=True)"
   ]
  },
  {
   "cell_type": "code",
   "execution_count": 71,
   "id": "c656bba7-80cb-454b-b44d-25005645731d",
   "metadata": {},
   "outputs": [],
   "source": [
    "#select NaN -> change to another value 'Other'"
   ]
  },
  {
   "cell_type": "code",
   "execution_count": 72,
   "id": "bc884ff9-9f5e-4627-9273-9b41665b5780",
   "metadata": {
    "tags": []
   },
   "outputs": [
    {
     "data": {
      "text/plain": [
       "6                  SL-0162; Membrane; LOCATION\n",
       "7              SL-0494; Nuclear body; LOCATION\n",
       "10    SL-0418; Host nucleus membrane; LOCATION\n",
       "17         SL-0182; Nucleus membrane; LOCATION\n",
       "18         SL-0182; Nucleus membrane; LOCATION\n",
       "23            SL-0380; Host membrane; LOCATION\n",
       "27    SL-0418; Host nucleus membrane; LOCATION\n",
       "33        SL-0244; Secretory vesicle; LOCATION\n",
       "34             SL-0494; Nuclear body; LOCATION\n",
       "35             SL-0494; Nuclear body; LOCATION\n",
       "Name: Is a, dtype: object"
      ]
     },
     "execution_count": 72,
     "metadata": {},
     "output_type": "execute_result"
    }
   ],
   "source": [
    "#select specific col: output is series, one-dimensiona version of dataframe\n",
    "nucleus_loci['Is a']"
   ]
  },
  {
   "cell_type": "code",
   "execution_count": 73,
   "id": "c09fcbc2-d745-4863-b6cc-18e9f35bcafd",
   "metadata": {
    "tags": []
   },
   "outputs": [
    {
     "data": {
      "text/plain": [
       "6     False\n",
       "7     False\n",
       "10    False\n",
       "17    False\n",
       "18    False\n",
       "23    False\n",
       "27    False\n",
       "33    False\n",
       "34    False\n",
       "35    False\n",
       "Name: Is a, dtype: bool"
      ]
     },
     "execution_count": 73,
     "metadata": {},
     "output_type": "execute_result"
    }
   ],
   "source": [
    "#select rows of col that are NaN\n",
    "nucleus_loci['Is a'].isna()"
   ]
  },
  {
   "cell_type": "code",
   "execution_count": 74,
   "id": "8fb08919-cf86-4acb-b79c-673d031badb9",
   "metadata": {
    "tags": []
   },
   "outputs": [
    {
     "name": "stderr",
     "output_type": "stream",
     "text": [
      "/var/folders/yj/7t8kdk6d4ks4rj285562h1yh0000gn/T/ipykernel_19807/2982695606.py:6: SettingWithCopyWarning: \n",
      "A value is trying to be set on a copy of a slice from a DataFrame\n",
      "\n",
      "See the caveats in the documentation: https://pandas.pydata.org/pandas-docs/stable/user_guide/indexing.html#returning-a-view-versus-a-copy\n",
      "  nucleus_loci['Is a'][mask] = 'Other'\n"
     ]
    },
    {
     "data": {
      "text/plain": [
       "6                  SL-0162; Membrane; LOCATION\n",
       "7              SL-0494; Nuclear body; LOCATION\n",
       "10    SL-0418; Host nucleus membrane; LOCATION\n",
       "17         SL-0182; Nucleus membrane; LOCATION\n",
       "18         SL-0182; Nucleus membrane; LOCATION\n",
       "23            SL-0380; Host membrane; LOCATION\n",
       "27    SL-0418; Host nucleus membrane; LOCATION\n",
       "33        SL-0244; Secretory vesicle; LOCATION\n",
       "34             SL-0494; Nuclear body; LOCATION\n",
       "35             SL-0494; Nuclear body; LOCATION\n",
       "Name: Is a, dtype: object"
      ]
     },
     "execution_count": 74,
     "metadata": {},
     "output_type": "execute_result"
    }
   ],
   "source": [
    "#filter whole df based on boolean values\n",
    "#AKA boolean mask\n",
    "\n",
    "mask = nucleus_loci['Is a'].isna()\n",
    "\n",
    "nucleus_loci['Is a'][mask] = 'Other'\n",
    "\n",
    "nucleus_loci['Is a']"
   ]
  },
  {
   "cell_type": "code",
   "execution_count": 75,
   "id": "e56ad3e4",
   "metadata": {},
   "outputs": [
    {
     "data": {
      "text/plain": [
       "6                Nucleus membrane\n",
       "7                 Nucleus speckle\n",
       "10    Host nucleus inner membrane\n",
       "17         Nucleus inner membrane\n",
       "18         Nucleus outer membrane\n",
       "23          Host nucleus membrane\n",
       "27    Host nucleus outer membrane\n",
       "33                       Acrosome\n",
       "34                     Cajal body\n",
       "35                       PML body\n",
       "Name: Name, dtype: object"
      ]
     },
     "execution_count": 75,
     "metadata": {},
     "output_type": "execute_result"
    }
   ],
   "source": [
    "## calling a column\n",
    "nucleus_loci.Name\n",
    "nucleus_loci['Name']"
   ]
  },
  {
   "cell_type": "code",
   "execution_count": 76,
   "id": "5ec4e6cc-28eb-4aa6-870d-cb5d92f3cbe2",
   "metadata": {
    "tags": []
   },
   "outputs": [
    {
     "data": {
      "text/html": [
       "<div>\n",
       "<style scoped>\n",
       "    .dataframe tbody tr th:only-of-type {\n",
       "        vertical-align: middle;\n",
       "    }\n",
       "\n",
       "    .dataframe tbody tr th {\n",
       "        vertical-align: top;\n",
       "    }\n",
       "\n",
       "    .dataframe thead th {\n",
       "        text-align: right;\n",
       "    }\n",
       "</style>\n",
       "<table border=\"1\" class=\"dataframe\">\n",
       "  <thead>\n",
       "    <tr style=\"text-align: right;\">\n",
       "      <th></th>\n",
       "      <th>Subcellular location ID</th>\n",
       "      <th>Name</th>\n",
       "      <th>Category</th>\n",
       "      <th>Gene Ontologies</th>\n",
       "      <th>Is a</th>\n",
       "    </tr>\n",
       "  </thead>\n",
       "  <tbody>\n",
       "  </tbody>\n",
       "</table>\n",
       "</div>"
      ],
      "text/plain": [
       "Empty DataFrame\n",
       "Columns: [Subcellular location ID, Name, Category, Gene Ontologies, Is a]\n",
       "Index: []"
      ]
     },
     "execution_count": 76,
     "metadata": {},
     "output_type": "execute_result"
    }
   ],
   "source": [
    "# another mask\n",
    "\n",
    "mask = (nucleus_loci.Name == 'Cytoplasm') | (nucleus_loci.Name == 'Target cell cytoplasm')\n",
    "\n",
    "nucleus_loci[mask]"
   ]
  },
  {
   "cell_type": "code",
   "execution_count": 77,
   "id": "8b876eb8-0499-41fb-a27e-fc005ae18f3d",
   "metadata": {
    "tags": []
   },
   "outputs": [
    {
     "data": {
      "text/html": [
       "<div>\n",
       "<style scoped>\n",
       "    .dataframe tbody tr th:only-of-type {\n",
       "        vertical-align: middle;\n",
       "    }\n",
       "\n",
       "    .dataframe tbody tr th {\n",
       "        vertical-align: top;\n",
       "    }\n",
       "\n",
       "    .dataframe thead th {\n",
       "        text-align: right;\n",
       "    }\n",
       "</style>\n",
       "<table border=\"1\" class=\"dataframe\">\n",
       "  <thead>\n",
       "    <tr style=\"text-align: right;\">\n",
       "      <th></th>\n",
       "      <th>Subcellular location ID</th>\n",
       "      <th>Name</th>\n",
       "      <th>Category</th>\n",
       "      <th>Gene Ontologies</th>\n",
       "      <th>Is a</th>\n",
       "    </tr>\n",
       "  </thead>\n",
       "  <tbody>\n",
       "  </tbody>\n",
       "</table>\n",
       "</div>"
      ],
      "text/plain": [
       "Empty DataFrame\n",
       "Columns: [Subcellular location ID, Name, Category, Gene Ontologies, Is a]\n",
       "Index: []"
      ]
     },
     "execution_count": 77,
     "metadata": {},
     "output_type": "execute_result"
    }
   ],
   "source": [
    "# another mask\n",
    "\n",
    "mask = nucleus_loci['Name'].str.contains('cytoplasm')\n",
    "\n",
    "nucleus_loci[mask]"
   ]
  },
  {
   "cell_type": "code",
   "execution_count": 78,
   "id": "83f18329-984e-4213-95b7-899d3299365f",
   "metadata": {
    "tags": []
   },
   "outputs": [
    {
     "data": {
      "text/html": [
       "<div>\n",
       "<style scoped>\n",
       "    .dataframe tbody tr th:only-of-type {\n",
       "        vertical-align: middle;\n",
       "    }\n",
       "\n",
       "    .dataframe tbody tr th {\n",
       "        vertical-align: top;\n",
       "    }\n",
       "\n",
       "    .dataframe thead th {\n",
       "        text-align: right;\n",
       "    }\n",
       "</style>\n",
       "<table border=\"1\" class=\"dataframe\">\n",
       "  <thead>\n",
       "    <tr style=\"text-align: right;\">\n",
       "      <th></th>\n",
       "      <th>Subcellular location ID</th>\n",
       "      <th>Name</th>\n",
       "      <th>Category</th>\n",
       "      <th>Gene Ontologies</th>\n",
       "      <th>Is a</th>\n",
       "    </tr>\n",
       "  </thead>\n",
       "  <tbody>\n",
       "  </tbody>\n",
       "</table>\n",
       "</div>"
      ],
      "text/plain": [
       "Empty DataFrame\n",
       "Columns: [Subcellular location ID, Name, Category, Gene Ontologies, Is a]\n",
       "Index: []"
      ]
     },
     "execution_count": 78,
     "metadata": {},
     "output_type": "execute_result"
    }
   ],
   "source": [
    "# another mask (or symbol)\n",
    "\n",
    "mask = nucleus_loci['Name'].str.contains('Cytoplasm') | nucleus_loci['Name'].str.contains('cytoplasm')\n",
    "\n",
    "nucleus_loci[mask]"
   ]
  },
  {
   "cell_type": "code",
   "execution_count": 79,
   "id": "38110500",
   "metadata": {},
   "outputs": [
    {
     "data": {
      "text/html": [
       "<div>\n",
       "<style scoped>\n",
       "    .dataframe tbody tr th:only-of-type {\n",
       "        vertical-align: middle;\n",
       "    }\n",
       "\n",
       "    .dataframe tbody tr th {\n",
       "        vertical-align: top;\n",
       "    }\n",
       "\n",
       "    .dataframe thead th {\n",
       "        text-align: right;\n",
       "    }\n",
       "</style>\n",
       "<table border=\"1\" class=\"dataframe\">\n",
       "  <thead>\n",
       "    <tr style=\"text-align: right;\">\n",
       "      <th></th>\n",
       "      <th>Subcellular location ID</th>\n",
       "      <th>Name</th>\n",
       "      <th>Category</th>\n",
       "      <th>Gene Ontologies</th>\n",
       "      <th>Is a</th>\n",
       "    </tr>\n",
       "  </thead>\n",
       "  <tbody>\n",
       "  </tbody>\n",
       "</table>\n",
       "</div>"
      ],
      "text/plain": [
       "Empty DataFrame\n",
       "Columns: [Subcellular location ID, Name, Category, Gene Ontologies, Is a]\n",
       "Index: []"
      ]
     },
     "execution_count": 79,
     "metadata": {},
     "output_type": "execute_result"
    }
   ],
   "source": [
    "# In Pandas, the .str.lower() method is used to convert all characters in a string column to lowercase\n",
    "# .upper() upper case .title() title case\n",
    "mask = nucleus_loci['Name'].str.lower().str.contains('cytoplasm') \n",
    "\n",
    "\n",
    "nucleus_loci[mask]"
   ]
  },
  {
   "cell_type": "markdown",
   "id": "0ec65a8e-ff43-4a67-abda-e0ba982e71f2",
   "metadata": {},
   "source": [
    "Other things Pandas offers:\n",
    "\n",
    "* time-series\n",
    "* in built plotting\n",
    "* merging and joining data\n",
    "* more complex functions"
   ]
  },
  {
   "cell_type": "markdown",
   "id": "e1fea722-0a0a-423b-a1fa-94937baaa63a",
   "metadata": {},
   "source": [
    "## Matplotlib"
   ]
  },
  {
   "cell_type": "code",
   "execution_count": 80,
   "id": "a5a32b18-b5ce-4b46-96bb-a2a33736e30c",
   "metadata": {
    "tags": []
   },
   "outputs": [],
   "source": [
    "import matplotlib.pyplot as plt #for plotting needs"
   ]
  },
  {
   "cell_type": "code",
   "execution_count": 81,
   "id": "0a9ddcd8-1bee-4e2a-a877-e25e3fa13667",
   "metadata": {
    "tags": []
   },
   "outputs": [
    {
     "data": {
      "image/png": "[encoded data removed]",
      "text/plain": [
       "<Figure size 640x480 with 1 Axes>"
      ]
     },
     "metadata": {},
     "output_type": "display_data"
    }
   ],
   "source": [
    "# Data\n",
    "x = [1, 2, 3, 4, 5]\n",
    "y = [2, 4, 6, 8, 10]\n",
    "\n",
    "# Create a line plot\n",
    "plt.plot(x, y)\n",
    "\n",
    "# Add labels and title\n",
    "plt.xlabel('X-axis')\n",
    "plt.ylabel('Y-axis')\n",
    "plt.title('Simple Line Plot')\n",
    "\n",
    "# Show the plot\n",
    "plt.show()\n",
    "## search for syntax to save the figure and what formats been supported"
   ]
  },
  {
   "cell_type": "code",
   "execution_count": 82,
   "id": "553544cf-2152-4cec-867f-271b1c0ca3cb",
   "metadata": {
    "tags": []
   },
   "outputs": [
    {
     "data": {
      "text/plain": [
       "Text(0.5, 1.0, 'Simple Line Plot')"
      ]
     },
     "execution_count": 82,
     "metadata": {},
     "output_type": "execute_result"
    },
    {
     "data": {
      "image/png": "[encoded data removed]",
      "text/plain": [
       "<Figure size 640x480 with 1 Axes>"
      ]
     },
     "metadata": {},
     "output_type": "display_data"
    }
   ],
   "source": [
    "# create a figure with multiple subplots\n",
    "fig, subfigs = plt.subplots()\n",
    "\n",
    "#plot point\n",
    "# Create a line plot\n",
    "subfigs.plot(x, y)\n",
    "\n",
    "# Add labels and title\n",
    "subfigs.set_xlabel('X-axis')\n",
    "subfigs.set_ylabel('Y-axis')\n",
    "subfigs.set_title('Simple Line Plot')"
   ]
  },
  {
   "cell_type": "code",
   "execution_count": 83,
   "id": "5c41d210-d69f-474b-a5d6-a1d70949251a",
   "metadata": {
    "tags": []
   },
   "outputs": [
    {
     "data": {
      "text/plain": [
       "Text(0.5, 1.0, 'Simple Scatter Plot')"
      ]
     },
     "execution_count": 83,
     "metadata": {},
     "output_type": "execute_result"
    },
    {
     "data": {
      "image/png": "[encoded data removed]",
      "text/plain": [
       "<Figure size 1200x500 with 2 Axes>"
      ]
     },
     "metadata": {},
     "output_type": "display_data"
    }
   ],
   "source": [
    "import random\n",
    "# customize fig size, number of plots\n",
    "fig, subfigs = plt.subplots(1,2, figsize=(12, 5))\n",
    "\n",
    "#plot point\n",
    "# select individual plots \n",
    "# Create a line plot\n",
    "subfigs[0].plot(x, y)\n",
    "\n",
    "# Add labels and title\n",
    "subfigs[0].set_xlabel('X-axis')\n",
    "subfigs[0].set_ylabel('Y-axis')\n",
    "subfigs[0].set_title('Simple Line Plot')\n",
    "\n",
    "#add to second plot\n",
    "subfigs[1].scatter([random.randint(-10, 10) for x in range(10)], [random.randint(-10, 10) for x in range(10)], color='red')\n",
    "# List comprehension offers a shorter syntax when you want to create a new list based on the values of an existing list\n",
    "# Add labels and title\n",
    "subfigs[1].set_xlabel('Other X-axis')\n",
    "subfigs[1].set_ylabel('Y-axis')\n",
    "subfigs[1].set_title('Simple Scatter Plot')"
   ]
  },
  {
   "cell_type": "code",
   "execution_count": 84,
   "id": "65cd9dab-3bb6-4aaa-a61f-aae107bf6e5d",
   "metadata": {
    "tags": []
   },
   "outputs": [
    {
     "data": {
      "text/plain": [
       "Text(0.5, 1.0, 'Simple Scatter Plot')"
      ]
     },
     "execution_count": 84,
     "metadata": {},
     "output_type": "execute_result"
    },
    {
     "data": {
      "image/png": "[encoded data removed]",
      "text/plain": [
       "<Figure size 1200x500 with 2 Axes>"
      ]
     },
     "metadata": {},
     "output_type": "display_data"
    }
   ],
   "source": [
    "import random\n",
    "# sharey=True is an argument used with the plt.subplots() function to create subplots with a shared y-axis. \n",
    "# This means that all subplots in the same row or column (depending on how you've organized your subplots) will have the same y-axis scale and limits\n",
    "fig, subfigs = plt.subplots(1,2, figsize=(12, 5), sharey=True)\n",
    "\n",
    "#plot point\n",
    "# Create a line plot\n",
    "subfigs[0].plot(x, y)\n",
    "\n",
    "# Add labels and title\n",
    "subfigs[0].set_xlabel('X-axis')\n",
    "subfigs[0].set_ylabel('Y-axis')\n",
    "subfigs[0].set_title('Simple Line Plot')\n",
    "\n",
    "#add to second plot\n",
    "subfigs[1].scatter([random.randint(-10, 10) for x in range(10)], [random.randint(-10, 10) for x in range(10)], color='red')\n",
    "# Add labels and title\n",
    "subfigs[1].set_xlabel('Other X-axis')\n",
    "subfigs[1].set_ylabel('Y-axis')\n",
    "subfigs[1].set_title('Simple Scatter Plot')"
   ]
  },
  {
   "cell_type": "code",
   "execution_count": null,
   "id": "4c6837e9",
   "metadata": {},
   "outputs": [
    {
     "name": "stdout",
     "output_type": "stream",
     "text": [
      "\u001b[1;33mJupyter detected\u001b[0m\u001b[1;33m...\u001b[0m\n",
      "\u001b[1;32m2\u001b[0m\u001b[1;32m channel Terms of Service accepted\u001b[0m\n",
      "Channels:\n",
      " - defaults\n",
      "Platform: osx-arm64\n",
      "doneecting package metadata (repodata.json): - \n",
      "doneing environment: | \n",
      "\n",
      "\n",
      "==> WARNING: A newer version of conda exists. <==\n",
      "    current version: 25.5.1\n",
      "    latest version: 25.9.1\n",
      "\n",
      "Please update conda by running\n",
      "\n",
      "    $ conda update -n base -c defaults conda\n",
      "\n",
      "\n",
      "\n",
      "## Package Plan ##\n",
      "\n",
      "  environment location: /opt/anaconda3\n",
      "\n",
      "  added / updated specs:\n",
      "    - numpy\n",
      "\n",
      "\n",
      "The following packages will be downloaded:\n",
      "\n",
      "    package                    |            build\n",
      "    ---------------------------|-----------------\n",
      "    ca-certificates-2025.9.9   |       hca03da5_0         127 KB\n",
      "    certifi-2025.10.5          |  py313hca03da5_0         157 KB\n",
      "    openssl-3.0.18             |       h9b4081a_0         3.1 MB\n",
      "    ------------------------------------------------------------\n",
      "                                           Total:         3.3 MB\n",
      "\n",
      "The following packages will be UPDATED:\n",
      "\n",
      "  ca-certificates                      2025.2.25-hca03da5_0 --> 2025.9.9-hca03da5_0 \n",
      "  certifi                         2025.4.26-py313hca03da5_0 --> 2025.10.5-py313hca03da5_0 \n",
      "  openssl                                 3.0.16-h02f6b3c_0 --> 3.0.18-h9b4081a_0 \n",
      "\n",
      "\n",
      "Proceed ([y]/n)? "
     ]
    }
   ],
   "source": [
    "!conda install numpy\n",
    "!pip install numpy"
   ]
  },
  {
   "cell_type": "code",
   "execution_count": null,
   "id": "0cc41a68",
   "metadata": {},
   "outputs": [],
   "source": []
  }
 ],
 "metadata": {
  "kernelspec": {
   "display_name": "Python 3 (ipykernel)",
   "language": "python",
   "name": "python3"
  },
  "language_info": {
   "codemirror_mode": {
    "name": "ipython",
    "version": 3
   },
   "file_extension": ".py",
   "mimetype": "text/x-python",
   "name": "python",
   "nbconvert_exporter": "python",
   "pygments_lexer": "ipython3",
   "version": "3.13.5"
  }
 },
 "nbformat": 4,
 "nbformat_minor": 5
}
